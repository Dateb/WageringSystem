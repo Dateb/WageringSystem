{
 "cells": [
  {
   "cell_type": "code",
   "execution_count": 1,
   "source": [
    "import sys\n",
    "sys.path.append('/home/daniel/PycharmProjects/WageringSystem')\n",
    "import pickle\n",
    "\n",
    "FUND_HISTORY_SUMMARIES_PATH = \"../data/fund_history_summaries.dat\"\n",
    "\n",
    "with open(FUND_HISTORY_SUMMARIES_PATH, \"rb\") as f:\n",
    "    fund_history_summary = pickle.load(f)\n",
    "\n",
    "fund_history_summary.validation_score"
   ],
   "metadata": {
    "collapsed": false
   },
   "outputs": []
  },
  {
   "cell_type": "markdown",
   "source": [
    "## Payout per odds"
   ],
   "metadata": {
    "collapsed": false
   }
  },
  {
   "cell_type": "code",
   "execution_count": 14,
   "source": [
    "from math import floor\n",
    "import seaborn as sns\n",
    "\n",
    "payout_win_prob_bins = {}\n",
    "for betting_slip in fund_history_summary.betting_slips.values():\n",
    "    success_prob = 0\n",
    "    for bet in betting_slip.bets:\n",
    "        success_prob += bet.success_probability\n",
    "\n",
    "    bin_key = str(floor(success_prob * 10))\n",
    "    if bin_key not in payout_win_prob_bins:\n",
    "        payout_win_prob_bins[bin_key] = betting_slip.payout_percentage\n",
    "    else:\n",
    "        payout_win_prob_bins[bin_key] += betting_slip.payout_percentage\n",
    "\n",
    "print(payout_win_prob_bins)"
   ],
   "metadata": {
    "collapsed": false
   },
   "outputs": []
  },
  {
   "cell_type": "markdown",
   "source": [
    "## Payout per number of horses"
   ],
   "metadata": {
    "collapsed": false
   }
  },
  {
   "cell_type": "code",
   "execution_count": 2,
   "source": [
    "import seaborn as sns\n",
    "\n",
    "betting_slips = fund_history_summary.betting_slips\n",
    "payout_per_number_of_horses = {}\n",
    "for betting_slip_date in betting_slips:\n",
    "    betting_slip = betting_slips[betting_slip_date]\n",
    "    if betting_slip.n_runners not in payout_per_number_of_horses:\n",
    "        payout_per_number_of_horses[betting_slip.n_runners] = betting_slip.payout\n",
    "    else:\n",
    "        payout_per_number_of_horses[betting_slip.n_runners] += betting_slip.payout\n",
    "\n",
    "ax = sns.barplot(list(payout_per_number_of_horses.keys()), list(payout_per_number_of_horses.values()))\n",
    "ax.set(xlabel='Number of horses', ylabel='Total Payout')"
   ],
   "metadata": {
    "collapsed": false
   },
   "outputs": []
  },
  {
   "cell_type": "markdown",
   "source": [
    "## Best paying tracks"
   ],
   "metadata": {
    "collapsed": false
   }
  },
  {
   "cell_type": "code",
   "execution_count": 17,
   "source": [
    "betting_slips = fund_history_summary.betting_slips\n",
    "payout_per_track = {}\n",
    "for betting_slip_date in betting_slips:\n",
    "    betting_slip = betting_slips[betting_slip_date]\n",
    "    if len(betting_slip.bets) > 0:\n",
    "        track_name = betting_slip.bets[0].predicted_horse_results[0].race_name[:-2]\n",
    "        if track_name not in payout_per_track:\n",
    "            payout_per_track[track_name] = betting_slip.payout_percentage\n",
    "        else:\n",
    "            payout_per_track[track_name] += betting_slip.payout_percentage\n",
    "\n",
    "print(payout_per_track)\n",
    "\n",
    "payout_per_track = dict(sorted(payout_per_track.items(), key=lambda item: item[1], reverse=True))\n",
    "\n",
    "sns.set(rc={'figure.figsize':(20,5.27)})\n",
    "ax = sns.barplot(x=list(payout_per_track.keys())[:20], y=list(payout_per_track.values())[:20])\n",
    "ax.set(xlabel='Track', ylabel='Total Payout')"
   ],
   "metadata": {
    "collapsed": false
   },
   "outputs": []
  },
  {
   "cell_type": "markdown",
   "source": [
    "## Worst paying tracks"
   ],
   "metadata": {
    "collapsed": false
   }
  },
  {
   "cell_type": "code",
   "execution_count": 4,
   "source": [
    "payout_per_track = dict(sorted(payout_per_track.items(), key=lambda item: item[1]))\n",
    "ax = sns.barplot(list(payout_per_track.keys())[:18], list(payout_per_track.values())[:18])\n",
    "ax.set(xlabel='Track', ylabel='Total Payout')"
   ],
   "metadata": {
    "collapsed": false
   },
   "outputs": []
  },
  {
   "cell_type": "code",
   "execution_count": null,
   "source": [],
   "metadata": {
    "collapsed": false
   },
   "outputs": []
  }
 ],
 "metadata": {
  "kernelspec": {
   "display_name": "Python 3",
   "language": "python",
   "name": "python3"
  },
  "language_info": {
   "codemirror_mode": {
    "name": "ipython",
    "version": 2
   },
   "file_extension": ".py",
   "mimetype": "text/x-python",
   "name": "python",
   "nbconvert_exporter": "python",
   "pygments_lexer": "ipython2",
   "version": "2.7.6"
  }
 },
 "nbformat": 4,
 "nbformat_minor": 0
}
