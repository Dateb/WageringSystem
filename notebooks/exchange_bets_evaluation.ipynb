{
 "cells": [
  {
   "cell_type": "code",
   "execution_count": 1,
   "id": "initial_id",
   "metadata": {
    "collapsed": true,
    "ExecuteTime": {
     "end_time": "2023-10-17T19:29:56.897558141Z",
     "start_time": "2023-10-17T19:29:55.291894741Z"
    }
   },
   "outputs": [
    {
     "name": "stdout",
     "output_type": "stream",
     "text": [
      "-----------------------------------\n",
      "Race: 6371267\n",
      "Offer: Odds for No Risk With Lou: 4.3\n",
      "Stakes: 0.16301592870622933\n",
      "Payout: 0.0\n",
      "-----------------------------------\n",
      "\n",
      "-----------------------------------\n",
      "Race: 6373266\n",
      "Offer: Odds for Whitehall Flyer: 5.3\n",
      "Stakes: 0.23128306294662673\n",
      "Payout: 0.0\n",
      "-----------------------------------\n",
      "\n",
      "-----------------------------------\n",
      "Race: 6371268\n",
      "Offer: Odds for Jean Danjou: 5.4\n",
      "Stakes: 0.13305391702118913\n",
      "Payout: 0.0\n",
      "-----------------------------------\n",
      "\n",
      "-----------------------------------\n",
      "Race: 6371268\n",
      "Offer: Odds for Solid As A Rock: 5.9\n",
      "Stakes: 0.13282680868670696\n",
      "Payout: 0.0\n",
      "-----------------------------------\n",
      "\n",
      "-----------------------------------\n",
      "Race: 6373274\n",
      "Offer: Odds for Dazamay: 8.6\n",
      "Stakes: 0.1923989864823748\n",
      "Payout: 0.0\n",
      "-----------------------------------\n"
     ]
    }
   ],
   "source": [
    "import pickle\n",
    "\n",
    "TEST_BETS_PATH = \"../data/bets_log/2023-10-17 04:24:37.610538\"\n",
    "\n",
    "with open(TEST_BETS_PATH, \"rb\") as f:\n",
    "    test_bets_base = pickle.load(f)\n",
    "\n",
    "for bet in test_bets_base:\n",
    "    print(bet)"
   ]
  },
  {
   "cell_type": "code",
   "execution_count": null,
   "outputs": [],
   "source": [],
   "metadata": {
    "collapsed": false
   },
   "id": "8ba0ecea233e4694"
  }
 ],
 "metadata": {
  "kernelspec": {
   "display_name": "Python 3",
   "language": "python",
   "name": "python3"
  },
  "language_info": {
   "codemirror_mode": {
    "name": "ipython",
    "version": 2
   },
   "file_extension": ".py",
   "mimetype": "text/x-python",
   "name": "python",
   "nbconvert_exporter": "python",
   "pygments_lexer": "ipython2",
   "version": "2.7.6"
  }
 },
 "nbformat": 4,
 "nbformat_minor": 5
}
