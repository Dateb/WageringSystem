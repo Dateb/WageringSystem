{
 "cells": [
  {
   "cell_type": "code",
   "source": [
    "from typing import List, Tuple\n",
    "import seaborn as sns\n",
    "import pandas as pd\n",
    "\n",
    "def get_win_prob_diffs(bet_odds_sp_pairs: List[Tuple[float, float]]) -> List[float]:\n",
    "    win_prob_diffs = []\n",
    "    for odds_pair in bet_odds_sp_pairs:\n",
    "        bet_odds = odds_pair[0]\n",
    "        sp = odds_pair[1]\n",
    "        if sp > 0:\n",
    "            bet_offer_win_prob = 1 / (bet_odds * (1 - 0.025))\n",
    "            bet_sp_win_prob = 1 / sp\n",
    "            \n",
    "            win_prob_diffs.append((bet_sp_win_prob / bet_offer_win_prob) - 1)\n",
    "            \n",
    "    return win_prob_diffs\n",
    "\n",
    "bet_odds_sp_pairs = [\n",
    "    (7.6, 5.99), (3.75, 3.09), (6, 4.92), (4.7, 5.31), (6.8, 12.04), (8.8, 6.01), (4.7, 1.9), (14, 16), (11.5, 15.35),\n",
    "    (6.4, 5.73), (9.2, 4), (6.2, 4.07), (3.7, 4.92), (9.6, 8.47), (4.2, 3.97), (15.5, 15), (6.2, 11.5), (4.32, 3.52), (3.6, 5.27),\n",
    "    (8.2, 8.23), (15.5, 12.03), (4.94, 9.51)\n",
    "]\n",
    "win_prob_diffs = get_win_prob_diffs(bet_odds_sp_pairs)\n",
    "\n",
    "sp_win_probs = [1 / pair[1] for pair in bet_odds_sp_pairs]\n",
    "print(f\"Expected #wins: {sum(sp_win_probs)}\")\n",
    "\n",
    "print(pd.Series(win_prob_diffs).describe())\n",
    "sns.histplot(data=win_prob_diffs, kde=True)"
   ],
   "metadata": {
    "collapsed": false,
    "ExecuteTime": {
     "end_time": "2024-02-14T10:29:59.503321330Z",
     "start_time": "2024-02-14T10:29:59.264542299Z"
    }
   },
   "id": "1ea0bf7e97beb3c4",
   "execution_count": 1,
   "outputs": []
  },
  {
   "cell_type": "code",
   "source": [
    "import pandas as pd\n",
    "from Model.Betting.payout_calculation import BetfairPayoutCalculator\n",
    "from Model.Betting.evaluate import WinBetEvaluator\n",
    "from Model.Betting.bet import Bet\n",
    "from typing import List\n",
    "import os\n",
    "from Persistence.RaceCardPersistence import RaceCardsPersistence\n",
    "from tqdm import tqdm\n",
    "from Model.Betting.race_results_container import RaceResultsContainer\n",
    "from matplotlib import pyplot as plt\n",
    "import pickle\n",
    "import seaborn as sns\n",
    "from numpy import cumsum, mean\n",
    "\n",
    "\n",
    "def plot_test_bets_return(test_bets: List[Bet], axis, label: str) -> None:\n",
    "    payout_values = [0.0] + [bet.payout for bet in test_bets]\n",
    "    date_values = list(range(len(payout_values)))\n",
    "    cum_payout_values = cumsum(payout_values)\n",
    "    label = f\"{label} (n = {len(test_bets)})\"\n",
    "    sns.lineplot(ax=axis, x=date_values, y=cum_payout_values, label=label)\n",
    "\n",
    "TEST_BETS_PATH = \"../data/bets_log\"\n",
    "test_bets = []\n",
    "\n",
    "for file_name in os.listdir(TEST_BETS_PATH):\n",
    "    if os.path.isfile(f\"{TEST_BETS_PATH}/{file_name}\"):\n",
    "        with open(f\"{TEST_BETS_PATH}/{file_name}\", \"rb\") as f:\n",
    "            test_bets += pickle.load(f)\n",
    "    \n",
    "race_cards_loader = RaceCardsPersistence(\"race_cards_release\")\n",
    "race_results_container = RaceResultsContainer()\n",
    "\n",
    "test_sample_file_names = race_cards_loader.race_card_file_names[-2:]\n",
    "\n",
    "print(test_sample_file_names)\n",
    "\n",
    "race_cards = {}\n",
    "\n",
    "for race_card_file_name in tqdm(test_sample_file_names):\n",
    "    race_cards = race_cards_loader.load_race_card_files_non_writable([race_card_file_name])\n",
    "    race_results_container.add_results_from_race_cards(race_cards)\n",
    "    \n",
    "bet_evaluator = WinBetEvaluator()\n",
    "payout_calculator = BetfairPayoutCalculator(bet_evaluator)\n",
    "\n",
    "payout_calculator.insert_payouts_into_bets(test_bets, race_results_container.race_results)\n",
    "\n",
    "for bet in test_bets:\n",
    "    if bet.payout == 0:\n",
    "        print(bet)\n",
    "        \n",
    "bet_odds_sp_pairs = []\n",
    "for bet in test_bets:\n",
    "    race_card_id_bet = bet.bet_offer.race_card.race_id\n",
    "    horse_number_bet = bet.bet_offer.horse.number\n",
    "    horse_sp = 0\n",
    "    for race_card in race_cards.values():\n",
    "        # print(type(race_card.race_id))\n",
    "        # print(type(race_card_id_bet))\n",
    "        if str(race_card.race_id) == race_card_id_bet:\n",
    "            for horse in race_card.horses:\n",
    "                if horse.number == horse_number_bet:\n",
    "                    horse_sp = horse.betfair_win_sp\n",
    "                    \n",
    "    bet_odds_sp_pairs.append((bet.bet_offer.odds, horse_sp))\n",
    "     \n",
    "win_prob_diffs = get_win_prob_diffs(bet_odds_sp_pairs)   \n",
    "\n",
    "print(pd.Series(win_prob_diffs).describe())\n",
    "\n",
    "sns.histplot(data=win_prob_diffs, kde=True)\n",
    "\n",
    "fig, axes = plt.subplots(1, 1)\n",
    "\n",
    "axes.set(xlabel=\"#Bets\", ylabel=\"Sum of returns\")\n",
    "plot_test_bets_return(test_bets=test_bets, axis=axes, label=\"Bet on everything\")"
   ],
   "metadata": {
    "collapsed": true,
    "ExecuteTime": {
     "end_time": "2024-02-12T19:24:29.320289694Z",
     "start_time": "2024-02-12T19:24:27.612020395Z"
    }
   },
   "id": "initial_id",
   "execution_count": 5,
   "outputs": []
  },
  {
   "cell_type": "code",
   "execution_count": 10,
   "source": [
    "import numpy as np\n",
    "\n",
    "bets = test_bets_base\n",
    "n_successful_bets = len([bet for bet in bets if bet.payout > 0])\n",
    "n_bets = len([bet for bet in bets if bet.payout != 0])\n",
    "\n",
    "print(n_successful_bets)\n",
    "print(n_bets)\n",
    "print(n_successful_bets / n_bets)\n",
    "print(np.mean([bet.bet_offer.odds for bet in test_bets_base if bet.payout > 0]))"
   ],
   "metadata": {
    "collapsed": false,
    "ExecuteTime": {
     "end_time": "2024-02-05T19:31:48.046801287Z",
     "start_time": "2024-02-05T19:31:47.403259854Z"
    }
   },
   "id": "55f6638c205f2966",
   "outputs": []
  },
  {
   "cell_type": "code",
   "execution_count": 4,
   "source": [
    "for bet in test_bets_base:\n",
    "    print(bet)"
   ],
   "metadata": {
    "collapsed": false,
    "ExecuteTime": {
     "end_time": "2023-11-22T09:10:57.992077970Z",
     "start_time": "2023-11-22T09:10:57.950557769Z"
    }
   },
   "id": "732006a63c0a4b7e",
   "outputs": []
  },
  {
   "cell_type": "code",
   "execution_count": 14,
   "source": [
    "from Model.Betting.bet import Bet\n",
    "from typing import List\n",
    "import seaborn as sns\n",
    "from matplotlib import pyplot as plt\n",
    "from numpy import cumsum\n",
    "\n",
    "sns.set(rc={'figure.figsize':(15,3.5)})\n",
    "\n",
    "def plot_test_bets_return(axis, test_bets: List[Bet]) -> None:\n",
    "    payout_values = [bet.payout for bet in test_bets]\n",
    "    x = [i for i in range(len(payout_values))]\n",
    "    cum_payout_values = cumsum(payout_values)\n",
    "    sns.lineplot(ax=axis, x=x, y=cum_payout_values)\n",
    "\n",
    "fig, axes = plt.subplots(1, 3)\n",
    "fig.suptitle('Return progressions for different bet subsets')\n",
    "\n",
    "axes[0].set_title(\"All bets\")\n",
    "plot_test_bets_return(axis=axes[0], test_bets=test_bets_base)\n",
    "\n",
    "test_bets_low_odds = [bet for bet in test_bets_base if bet.bet_offer.odds < 20]\n",
    "axes[1].set_title(\"Bets with low odds\")\n",
    "plot_test_bets_return(axis=axes[1], test_bets=test_bets_low_odds)\n",
    "\n",
    "test_bets = [bet for bet in test_bets_base if bet.probability_estimate > 0.25]\n",
    "axes[2].set_title(\"Bets with high win prediction\")\n",
    "plot_test_bets_return(axis=axes[2], test_bets=test_bets)"
   ],
   "metadata": {
    "collapsed": false,
    "ExecuteTime": {
     "end_time": "2023-10-17T22:43:46.741466701Z",
     "start_time": "2023-10-17T22:43:46.166789146Z"
    }
   },
   "id": "f7e8517c94ab499e",
   "outputs": []
  },
  {
   "cell_type": "code",
   "execution_count": null,
   "source": [],
   "metadata": {
    "collapsed": false
   },
   "id": "8ba0ecea233e4694",
   "outputs": []
  }
 ],
 "metadata": {
  "kernelspec": {
   "display_name": "Python 3",
   "language": "python",
   "name": "python3"
  },
  "language_info": {
   "codemirror_mode": {
    "name": "ipython",
    "version": 2
   },
   "file_extension": ".py",
   "mimetype": "text/x-python",
   "name": "python",
   "nbconvert_exporter": "python",
   "pygments_lexer": "ipython2",
   "version": "2.7.6"
  }
 },
 "nbformat": 4,
 "nbformat_minor": 5
}
