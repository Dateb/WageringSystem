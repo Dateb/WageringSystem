{
 "cells": [
  {
   "cell_type": "code",
   "execution_count": 3,
   "id": "initial_id",
   "metadata": {
    "collapsed": true,
    "ExecuteTime": {
     "end_time": "2023-12-28T19:19:15.798680413Z",
     "start_time": "2023-12-28T19:19:14.284313126Z"
    }
   },
   "outputs": [
    {
     "name": "stdout",
     "output_type": "stream",
     "text": [
      "-----------------------------------\n",
      "Race: 6553894\n",
      "Offer: Odds for Bringbackmemories: 11.0\n",
      "Stakes: 0.08796462090020578\n",
      "Payout: 0.0\n",
      "-----------------------------------\n",
      "\n",
      "['race_cards_2023-11.json', 'race_cards_2023-12.json']\n"
     ]
    },
    {
     "name": "stderr",
     "output_type": "stream",
     "text": [
      "100%|██████████| 2/2 [00:01<00:00,  1.50it/s]"
     ]
    },
    {
     "name": "stdout",
     "output_type": "stream",
     "text": [
      "[0, 1]\n"
     ]
    },
    {
     "name": "stderr",
     "output_type": "stream",
     "text": [
      "\n"
     ]
    },
    {
     "data": {
      "text/plain": "<Figure size 640x480 with 1 Axes>",
      "image/png": "[encoded data removed]"
     },
     "metadata": {},
     "output_type": "display_data"
    }
   ],
   "source": [
    "from Model.Betting.payout_calculation import BetfairPayoutCalculator\n",
    "from Model.Betting.evaluate import PlaceBetEvaluator, WinBetEvaluator\n",
    "from Model.Betting.bet import Bet\n",
    "from typing import List\n",
    "import os\n",
    "from Persistence.RaceCardPersistence import RaceCardsPersistence\n",
    "from tqdm import tqdm\n",
    "from Model.Betting.race_results_container import RaceResultsContainer\n",
    "from matplotlib import pyplot as plt\n",
    "import pickle\n",
    "import seaborn as sns\n",
    "from numpy import cumsum\n",
    "\n",
    "def plot_test_bets_return(test_bets: List[Bet], axis, label: str) -> None:\n",
    "    payout_values = [0.0] + [bet.payout for bet in test_bets]\n",
    "    date_values = list(range(len(payout_values)))\n",
    "    cum_payout_values = cumsum(payout_values)\n",
    "    label = f\"{label} (n = {len(test_bets)})\"\n",
    "    print(date_values)\n",
    "    sns.lineplot(ax=axis, x=date_values, y=cum_payout_values, label=label)\n",
    "\n",
    "TEST_BETS_PATH = \"../data/bets_log\"\n",
    "test_bets = []\n",
    "\n",
    "for file_name in os.listdir(TEST_BETS_PATH):\n",
    "    if os.path.isfile(f\"{TEST_BETS_PATH}/{file_name}\"):\n",
    "        with open(f\"{TEST_BETS_PATH}/{file_name}\", \"rb\") as f:\n",
    "            test_bets += pickle.load(f)\n",
    "    \n",
    "    \n",
    "for bet in test_bets:\n",
    "    print(bet)\n",
    "    \n",
    "race_cards_loader = RaceCardsPersistence(\"race_cards\")\n",
    "race_results_container = RaceResultsContainer()\n",
    "\n",
    "test_sample_file_names = race_cards_loader.race_card_file_names[-2:]\n",
    "\n",
    "print(test_sample_file_names)\n",
    "\n",
    "for race_card_file_name in tqdm(test_sample_file_names):\n",
    "    race_cards = race_cards_loader.load_race_card_files_non_writable([race_card_file_name])\n",
    "    race_results_container.add_results_from_race_cards(race_cards)\n",
    "    \n",
    "bet_evaluator = WinBetEvaluator()\n",
    "payout_calculator = BetfairPayoutCalculator(bet_evaluator)\n",
    "\n",
    "payout_calculator.insert_payouts_into_bets(test_bets, race_results_container.race_results)\n",
    "\n",
    "fig, axes = plt.subplots(1, 1)\n",
    "\n",
    "axes.set(xlabel=\"#Bets\", ylabel=\"Sum of returns\")\n",
    "plot_test_bets_return(test_bets=test_bets, axis=axes, label=\"Bet on everything\")"
   ]
  },
  {
   "cell_type": "code",
   "execution_count": 3,
   "outputs": [
    {
     "name": "stdout",
     "output_type": "stream",
     "text": [
      "5\n",
      "120\n",
      "0.041666666666666664\n",
      "20.759999999999998\n"
     ]
    }
   ],
   "source": [
    "import numpy as np\n",
    "\n",
    "bets = test_bets_base\n",
    "n_successful_bets = len([bet for bet in bets if bet.payout > 0])\n",
    "n_bets = len([bet for bet in bets if bet.payout != 0])\n",
    "\n",
    "print(n_successful_bets)\n",
    "print(n_bets)\n",
    "print(n_successful_bets / n_bets)\n",
    "print(np.mean([bet.bet_offer.odds for bet in test_bets_base if bet.payout > 0]))"
   ],
   "metadata": {
    "collapsed": false,
    "ExecuteTime": {
     "end_time": "2023-12-06T23:57:03.252735637Z",
     "start_time": "2023-12-06T23:57:03.209530094Z"
    }
   },
   "id": "55f6638c205f2966"
  },
  {
   "cell_type": "code",
   "execution_count": 4,
   "outputs": [
    {
     "name": "stdout",
     "output_type": "stream",
     "text": [
      "-----------------------------------\n",
      "Race: 6411535\n",
      "Offer: Odds for Clenched: 12.0\n",
      "Stakes: 0.06289786688899544\n",
      "Payout: -0.06289786688899544\n",
      "-----------------------------------\n",
      "\n",
      "-----------------------------------\n",
      "Race: 6411540\n",
      "Offer: Odds for Alexi Boy: 3.25\n",
      "Stakes: 0.05117977990976533\n",
      "Payout: -0.05117977990976533\n",
      "-----------------------------------\n",
      "\n",
      "-----------------------------------\n",
      "Race: 6409391\n",
      "Offer: Odds for Pour Me A Drink: 9.0\n",
      "Stakes: 0.00636915833092247\n",
      "Payout: -0.00636915833092247\n",
      "-----------------------------------\n",
      "\n",
      "-----------------------------------\n",
      "Race: 6411539\n",
      "Offer: Odds for Pop Dancer: 5.8\n",
      "Stakes: 0.010845725744067133\n",
      "Payout: -0.010845725744067133\n",
      "-----------------------------------\n",
      "\n",
      "-----------------------------------\n",
      "Race: 6417045\n",
      "Offer: Odds for Sir Psycho: 4.9\n",
      "Stakes: 0.06010038082627219\n",
      "Payout: 0.22702918857124318\n",
      "-----------------------------------\n",
      "\n",
      "-----------------------------------\n",
      "Race: 6417046\n",
      "Offer: Odds for Cap Du Mathan: 4.2\n",
      "Stakes: 0.013575863334212013\n",
      "Payout: -0.013575863334212013\n",
      "-----------------------------------\n",
      "\n",
      "-----------------------------------\n",
      "Race: 6417089\n",
      "Offer: Odds for Diger Daudaie: 7.2\n",
      "Stakes: 0.008795394391459212\n",
      "Payout: 0.0\n",
      "-----------------------------------\n",
      "\n",
      "-----------------------------------\n",
      "Race: 6417060\n",
      "Offer: Odds for Ip Up: 7.0\n",
      "Stakes: 0.012817557694425793\n",
      "Payout: 0.07466227357003025\n",
      "-----------------------------------\n",
      "\n",
      "-----------------------------------\n",
      "Race: 6462710\n",
      "Offer: Odds for Sacchoandvanzetti: 10.0\n",
      "Stakes: 0.03746922371666425\n",
      "Payout: 0.0\n",
      "-----------------------------------\n",
      "\n",
      "-----------------------------------\n",
      "Race: 6414319\n",
      "Offer: Odds for Southern Voyage: 6.6\n",
      "Stakes: 0.11829684516970768\n",
      "Payout: -0.11829684516970768\n",
      "-----------------------------------\n",
      "\n",
      "-----------------------------------\n",
      "Race: 6416656\n",
      "Offer: Odds for Sycamore: 9.0\n",
      "Stakes: 0.005775303851582703\n",
      "Payout: 0.0\n",
      "-----------------------------------\n",
      "\n",
      "-----------------------------------\n",
      "Race: 6411778\n",
      "Offer: Odds for Taswara: 5.3\n",
      "Stakes: 0.1050336902719372\n",
      "Payout: 0.0\n",
      "-----------------------------------\n",
      "\n",
      "-----------------------------------\n",
      "Race: 6413992\n",
      "Offer: Odds for Strong Team: 6.4\n",
      "Stakes: 0.055997356293375926\n",
      "Payout: -0.055997356293375926\n",
      "-----------------------------------\n",
      "\n",
      "-----------------------------------\n",
      "Race: 6411784\n",
      "Offer: Odds for Magic Dancer: 8.4\n",
      "Stakes: 0.05666751008999676\n",
      "Payout: -0.05666751008999676\n",
      "-----------------------------------\n",
      "\n",
      "-----------------------------------\n",
      "Race: 6411779\n",
      "Offer: Odds for Chico Dulce: 4.5\n",
      "Stakes: 0.050169239855472024\n",
      "Payout: -0.050169239855472024\n",
      "-----------------------------------\n",
      "\n",
      "-----------------------------------\n",
      "Race: 6424759\n",
      "Offer: Odds for I See You Well: 6.8\n",
      "Stakes: 0.021662434943410247\n",
      "Payout: 0.12195950873139969\n",
      "-----------------------------------\n",
      "\n",
      "-----------------------------------\n",
      "Race: 6424774\n",
      "Offer: Odds for Kingston Sunflower: 8.4\n",
      "Stakes: 0.022106983592238342\n",
      "Payout: -0.022106983592238342\n",
      "-----------------------------------\n",
      "\n",
      "-----------------------------------\n",
      "Race: 6424910\n",
      "Offer: Odds for Sindri: 3.95\n",
      "Stakes: 0.030812146820461534\n",
      "Payout: -0.030812146820461534\n",
      "-----------------------------------\n",
      "\n",
      "-----------------------------------\n",
      "Race: 6424912\n",
      "Offer: Odds for Channel Packet: 7.0\n",
      "Stakes: 0.08447497769319016\n",
      "Payout: -0.08447497769319016\n",
      "-----------------------------------\n",
      "\n",
      "-----------------------------------\n",
      "Race: 6424916\n",
      "Offer: Odds for First Encounter: 21.0\n",
      "Stakes: 0.08801365736077338\n",
      "Payout: -0.08801365736077338\n",
      "-----------------------------------\n",
      "\n",
      "-----------------------------------\n",
      "Race: 6424922\n",
      "Offer: Odds for Twenty Twenty: 9.0\n",
      "Stakes: 0.05257477825647902\n",
      "Payout: -0.05257477825647902\n",
      "-----------------------------------\n",
      "\n",
      "-----------------------------------\n",
      "Race: 6426990\n",
      "Offer: Odds for Deep Spirit: 8.2\n",
      "Stakes: 0.03039546825296542\n",
      "Payout: 0.0\n",
      "-----------------------------------\n"
     ]
    }
   ],
   "source": [
    "for bet in test_bets_base:\n",
    "    print(bet)"
   ],
   "metadata": {
    "collapsed": false,
    "ExecuteTime": {
     "end_time": "2023-11-22T09:10:57.992077970Z",
     "start_time": "2023-11-22T09:10:57.950557769Z"
    }
   },
   "id": "732006a63c0a4b7e"
  },
  {
   "cell_type": "code",
   "execution_count": 14,
   "outputs": [
    {
     "data": {
      "text/plain": "<Figure size 1500x350 with 3 Axes>",
      "image/png": "[encoded data removed]"
     },
     "metadata": {},
     "output_type": "display_data"
    }
   ],
   "source": [
    "from Model.Betting.bet import Bet\n",
    "from typing import List\n",
    "import seaborn as sns\n",
    "from matplotlib import pyplot as plt\n",
    "from numpy import cumsum\n",
    "\n",
    "sns.set(rc={'figure.figsize':(15,3.5)})\n",
    "\n",
    "def plot_test_bets_return(axis, test_bets: List[Bet]) -> None:\n",
    "    payout_values = [bet.payout for bet in test_bets]\n",
    "    x = [i for i in range(len(payout_values))]\n",
    "    cum_payout_values = cumsum(payout_values)\n",
    "    sns.lineplot(ax=axis, x=x, y=cum_payout_values)\n",
    "\n",
    "fig, axes = plt.subplots(1, 3)\n",
    "fig.suptitle('Return progressions for different bet subsets')\n",
    "\n",
    "axes[0].set_title(\"All bets\")\n",
    "plot_test_bets_return(axis=axes[0], test_bets=test_bets_base)\n",
    "\n",
    "test_bets_low_odds = [bet for bet in test_bets_base if bet.bet_offer.odds < 20]\n",
    "axes[1].set_title(\"Bets with low odds\")\n",
    "plot_test_bets_return(axis=axes[1], test_bets=test_bets_low_odds)\n",
    "\n",
    "test_bets = [bet for bet in test_bets_base if bet.probability_estimate > 0.25]\n",
    "axes[2].set_title(\"Bets with high win prediction\")\n",
    "plot_test_bets_return(axis=axes[2], test_bets=test_bets)"
   ],
   "metadata": {
    "collapsed": false,
    "ExecuteTime": {
     "end_time": "2023-10-17T22:43:46.741466701Z",
     "start_time": "2023-10-17T22:43:46.166789146Z"
    }
   },
   "id": "f7e8517c94ab499e"
  },
  {
   "cell_type": "code",
   "execution_count": null,
   "outputs": [],
   "source": [],
   "metadata": {
    "collapsed": false
   },
   "id": "8ba0ecea233e4694"
  }
 ],
 "metadata": {
  "kernelspec": {
   "display_name": "Python 3",
   "language": "python",
   "name": "python3"
  },
  "language_info": {
   "codemirror_mode": {
    "name": "ipython",
    "version": 2
   },
   "file_extension": ".py",
   "mimetype": "text/x-python",
   "name": "python",
   "nbconvert_exporter": "python",
   "pygments_lexer": "ipython2",
   "version": "2.7.6"
  }
 },
 "nbformat": 4,
 "nbformat_minor": 5
}
