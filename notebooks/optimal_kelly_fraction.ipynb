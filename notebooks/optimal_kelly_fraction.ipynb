{
 "cells": [
  {
   "cell_type": "markdown",
   "source": [
    "## What is the optimal kelly fraction staking size?"
   ],
   "metadata": {
    "collapsed": false
   },
   "id": "a74eff5a5de7ea52"
  },
  {
   "cell_type": "code",
   "execution_count": 28,
   "source": [
    "from Model.Betting.bet import Bet\n",
    "from numpy import argmax\n",
    "from typing import List\n",
    "import pickle\n",
    "import seaborn as sns\n",
    "\n",
    "TEST_BETS_PATH = \"../data/test_payouts.dat\"\n",
    "\n",
    "with open(TEST_BETS_PATH, \"rb\") as f:\n",
    "    test_bets_base = pickle.load(f)\n",
    "    \n",
    "def get_minutes_until_race_start(bet: Bet) -> float:\n",
    "    minutes_diff = (bet.bet_offer.event_datetime - bet.bet_offer.race_card.datetime).seconds / 60\n",
    "    \n",
    "    if bet.bet_offer.event_datetime < bet.bet_offer.race_card.datetime:\n",
    "        minutes_diff *= -1\n",
    "    return minutes_diff\n",
    "    \n",
    "test_bets_base = [bet for bet in test_bets_base if bet.probability_start > -1 and get_minutes_until_race_start(bet) < 0]\n",
    "# test_bets_base = [bet for bet in test_bets_base if bet.payout < 30]\n",
    "test_bets = [bet for bet in test_bets_base if bet.bet_offer]\n",
    "payouts = [bet.payout for bet in test_bets]\n",
    "\n",
    "def get_end_wealth(payouts: List[float], kelly_fraction: float) -> float:\n",
    "    wealth = 1\n",
    "    \n",
    "    for payout in payouts:\n",
    "        wealth *= (1 + kelly_fraction * payout)\n",
    "        \n",
    "    return wealth\n",
    "\n",
    "kelly_fractions = [0 + 0.05 * i for i in range(40)]\n",
    "end_wealth_snapshots = [get_end_wealth(payouts, kelly_fraction) for kelly_fraction in kelly_fractions]\n",
    "\n",
    "optimal_kelly_fraction = kelly_fractions[argmax(end_wealth_snapshots)]\n",
    "    \n",
    "ax = sns.lineplot(x=kelly_fractions, y=end_wealth_snapshots)\n",
    "print(f\"Optimal kelly fraction: {optimal_kelly_fraction} with end wealth: {max(end_wealth_snapshots)}\")"
   ],
   "metadata": {
    "collapsed": false,
    "ExecuteTime": {
     "end_time": "2023-10-19T12:45:56.318516677Z",
     "start_time": "2023-10-19T12:45:54.865080855Z"
    }
   },
   "id": "initial_id",
   "outputs": []
  },
  {
   "cell_type": "markdown",
   "source": [
    "## How much capital is needed with the optimal kelly staking size?"
   ],
   "metadata": {
    "collapsed": false
   },
   "id": "506cc11502a7f8eb"
  },
  {
   "cell_type": "code",
   "execution_count": 26,
   "source": [
    "from numpy import mean\n",
    "\n",
    "stakes = [bet.stakes for bet in test_bets]\n",
    "\n",
    "min_stakes = min(stakes) * optimal_kelly_fraction\n",
    "\n",
    "min_allowed_stakes = 6\n",
    "required_start_wealth = min_allowed_stakes / min_stakes\n",
    "\n",
    "print(f\"Required start wealth: {required_start_wealth}\")"
   ],
   "metadata": {
    "collapsed": false,
    "ExecuteTime": {
     "end_time": "2023-10-19T09:12:37.206125236Z",
     "start_time": "2023-10-19T09:12:37.161283662Z"
    }
   },
   "id": "c0004a7f81d2dd30",
   "outputs": []
  },
  {
   "cell_type": "code",
   "execution_count": null,
   "source": [],
   "metadata": {
    "collapsed": false
   },
   "id": "1a4b7d225dd43d61",
   "outputs": []
  }
 ],
 "metadata": {
  "kernelspec": {
   "display_name": "Python 3",
   "language": "python",
   "name": "python3"
  },
  "language_info": {
   "codemirror_mode": {
    "name": "ipython",
    "version": 2
   },
   "file_extension": ".py",
   "mimetype": "text/x-python",
   "name": "python",
   "nbconvert_exporter": "python",
   "pygments_lexer": "ipython2",
   "version": "2.7.6"
  }
 },
 "nbformat": 4,
 "nbformat_minor": 5
}
