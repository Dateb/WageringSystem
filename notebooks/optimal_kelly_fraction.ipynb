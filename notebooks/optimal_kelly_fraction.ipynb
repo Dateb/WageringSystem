{
 "cells": [
  {
   "cell_type": "markdown",
   "source": [
    "## What is the optimal kelly fraction staking size?"
   ],
   "metadata": {
    "collapsed": false
   },
   "id": "a74eff5a5de7ea52"
  },
  {
   "cell_type": "code",
   "execution_count": 5,
   "outputs": [
    {
     "name": "stdout",
     "output_type": "stream",
     "text": [
      "Optimal kelly fraction: 0.0 with end wealth: 1.0\n"
     ]
    },
    {
     "data": {
      "text/plain": "<Figure size 640x480 with 1 Axes>",
      "image/png": "[encoded data removed]"
     },
     "metadata": {},
     "output_type": "display_data"
    }
   ],
   "source": [
    "from numpy import argmax\n",
    "from typing import List\n",
    "import pickle\n",
    "import seaborn as sns\n",
    "\n",
    "TEST_BETS_PATH = \"../data/test_payouts.dat\"\n",
    "\n",
    "with open(TEST_BETS_PATH, \"rb\") as f:\n",
    "    test_bets_base = pickle.load(f)\n",
    "    \n",
    "test_bets_base = [bet for bet in test_bets_base if bet.probability_start > -1]\n",
    "test_bets = [bet for bet in test_bets_base if bet.bet_offer.odds < 20 and bet.stakes > 0.05]\n",
    "payouts = [bet.payout for bet in test_bets]\n",
    "\n",
    "def get_end_wealth(payouts: List[float], kelly_fraction: float) -> float:\n",
    "    wealth = 1\n",
    "    \n",
    "    for payout in payouts:\n",
    "        wealth *= (1 + kelly_fraction * payout)\n",
    "        \n",
    "    return wealth\n",
    "\n",
    "kelly_fractions = [0 + 0.05 * i for i in range(20)]\n",
    "end_wealth_snapshots = [get_end_wealth(payouts, kelly_fraction) for kelly_fraction in kelly_fractions]\n",
    "\n",
    "optimal_kelly_fraction = kelly_fractions[argmax(end_wealth_snapshots)]\n",
    "    \n",
    "ax = sns.lineplot(x=kelly_fractions, y=end_wealth_snapshots)\n",
    "print(f\"Optimal kelly fraction: {optimal_kelly_fraction} with end wealth: {max(end_wealth_snapshots)}\")"
   ],
   "metadata": {
    "collapsed": false,
    "ExecuteTime": {
     "end_time": "2023-10-10T16:13:59.027076232Z",
     "start_time": "2023-10-10T16:13:57.946793682Z"
    }
   },
   "id": "initial_id"
  },
  {
   "cell_type": "markdown",
   "source": [
    "## How much capital is needed with the optimal kelly staking size?"
   ],
   "metadata": {
    "collapsed": false
   },
   "id": "506cc11502a7f8eb"
  },
  {
   "cell_type": "code",
   "execution_count": 6,
   "outputs": [
    {
     "ename": "ZeroDivisionError",
     "evalue": "float division by zero",
     "output_type": "error",
     "traceback": [
      "\u001B[0;31m---------------------------------------------------------------------------\u001B[0m",
      "\u001B[0;31mZeroDivisionError\u001B[0m                         Traceback (most recent call last)",
      "Cell \u001B[0;32mIn [6], line 8\u001B[0m\n\u001B[1;32m      5\u001B[0m min_stakes \u001B[38;5;241m=\u001B[39m \u001B[38;5;28mmin\u001B[39m(stakes) \u001B[38;5;241m*\u001B[39m optimal_kelly_fraction\n\u001B[1;32m      7\u001B[0m min_allowed_stakes \u001B[38;5;241m=\u001B[39m \u001B[38;5;241m7\u001B[39m\n\u001B[0;32m----> 8\u001B[0m required_start_wealth \u001B[38;5;241m=\u001B[39m \u001B[43mmin_allowed_stakes\u001B[49m\u001B[43m \u001B[49m\u001B[38;5;241;43m/\u001B[39;49m\u001B[43m \u001B[49m\u001B[43mmin_stakes\u001B[49m\n\u001B[1;32m     10\u001B[0m \u001B[38;5;28mprint\u001B[39m(\u001B[38;5;124mf\u001B[39m\u001B[38;5;124m\"\u001B[39m\u001B[38;5;124mRequired start wealth: \u001B[39m\u001B[38;5;132;01m{\u001B[39;00mrequired_start_wealth\u001B[38;5;132;01m}\u001B[39;00m\u001B[38;5;124m\"\u001B[39m)\n",
      "\u001B[0;31mZeroDivisionError\u001B[0m: float division by zero"
     ]
    }
   ],
   "source": [
    "from numpy import mean\n",
    "\n",
    "stakes = [bet.stakes for bet in test_bets]\n",
    "\n",
    "min_stakes = min(stakes) * optimal_kelly_fraction\n",
    "\n",
    "min_allowed_stakes = 7\n",
    "required_start_wealth = min_allowed_stakes / min_stakes\n",
    "\n",
    "print(f\"Required start wealth: {required_start_wealth}\")"
   ],
   "metadata": {
    "collapsed": false,
    "ExecuteTime": {
     "end_time": "2023-10-10T16:14:05.903214806Z",
     "start_time": "2023-10-10T16:14:05.411961249Z"
    }
   },
   "id": "c0004a7f81d2dd30"
  },
  {
   "cell_type": "code",
   "execution_count": null,
   "outputs": [],
   "source": [],
   "metadata": {
    "collapsed": false
   },
   "id": "1a4b7d225dd43d61"
  }
 ],
 "metadata": {
  "kernelspec": {
   "display_name": "Python 3",
   "language": "python",
   "name": "python3"
  },
  "language_info": {
   "codemirror_mode": {
    "name": "ipython",
    "version": 2
   },
   "file_extension": ".py",
   "mimetype": "text/x-python",
   "name": "python",
   "nbconvert_exporter": "python",
   "pygments_lexer": "ipython2",
   "version": "2.7.6"
  }
 },
 "nbformat": 4,
 "nbformat_minor": 5
}
