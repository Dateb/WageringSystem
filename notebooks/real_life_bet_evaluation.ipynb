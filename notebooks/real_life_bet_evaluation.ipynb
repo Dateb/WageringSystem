{
 "cells": [
  {
   "cell_type": "code",
   "execution_count": 1,
   "id": "initial_id",
   "metadata": {
    "collapsed": true,
    "ExecuteTime": {
     "end_time": "2024-04-03T13:52:08.495601Z",
     "start_time": "2024-04-03T13:52:07.613130Z"
    }
   },
   "source": [
    "import os\n",
    "\n",
    "from util.stats_calculator import get_max_draw_down\n",
    "from typing import List\n",
    "from util.plot import plot_wealth_growth\n",
    "import pandas as pd\n",
    "import csv\n",
    "\n",
    "def row_to_live_result(row: List[str]) -> LiveResult:\n",
    "    return LiveResult(float(row[0]), float(row[1]), row[3]==\"True\", stakes=float(row[2]))\n",
    "\n",
    "with open('live_results.csv', newline='') as csvfile:\n",
    "    live_result_reader = csv.reader(csvfile, delimiter=' ', quotechar='|')\n",
    "    \n",
    "    live_results = [row_to_live_result(row) for row in live_result_reader]\n",
    "\n",
    "clvs = [result.clv for result in live_results]\n",
    "soft_payouts = [result.clv * result.stakes for result in live_results]\n",
    "print(f\"Max draw down of soft payouts: {get_max_draw_down(soft_payouts)}\")\n",
    "positive_clv_percentage = len([1 for payout in soft_payouts if payout > 0]) / len(soft_payouts)\n",
    "print(f\"% of positive clv: {positive_clv_percentage}\")\n",
    "\n",
    "payouts = [get_payout(result, result.stakes) for result in live_results]\n",
    "print(pd.Series(clvs).describe())\n",
    "\n",
    "expected_wins = sum([1 / live_result.starting_odds for live_result in live_results])\n",
    "n_wins = sum([1 for live_result in live_results if live_result.has_won])\n",
    "print(f\"Expected/Actual wins: {expected_wins}/{n_wins}\")\n",
    "print(f\"Win percentage: {n_wins / len(live_results)}\")\n",
    "\n",
    "plot_wealth_growth(payouts, label=\"Raw Payouts\")\n",
    "plot_wealth_growth(soft_payouts, label=\"Soft payouts\")"
   ],
   "outputs": []
  },
  {
   "cell_type": "code",
   "source": [
    "import csv\n",
    "import seaborn as sns\n",
    "\n",
    "STAKING_FRACTION = 0.004\n",
    "bankroll = 2000\n",
    "bankroll_snapshots = []\n",
    "\n",
    "current_staking_size = max(STAKING_FRACTION * bankroll, 6)\n",
    "\n",
    "with open('live_results.csv', newline='') as csvfile:\n",
    "    live_result_reader = csv.reader(csvfile, delimiter=' ', quotechar='|')\n",
    "    \n",
    "    profit_of_day = 0\n",
    "    for row in live_result_reader:\n",
    "        is_new_day = int(row[4]) == 1\n",
    "        \n",
    "        if is_new_day:\n",
    "            bankroll += profit_of_day\n",
    "            bankroll_snapshots.append(bankroll)\n",
    "            profit_of_day = 0\n",
    "            current_staking_size = max(STAKING_FRACTION * bankroll, 6)\n",
    "            print(current_staking_size)\n",
    "        \n",
    "        offer_odds = float(row[0])\n",
    "        has_won = row[3]==\"True\"\n",
    "        \n",
    "        profit_of_day -= current_staking_size\n",
    "        if has_won:\n",
    "            profit_of_day += offer_odds * current_staking_size\n",
    "\n",
    "print(f\"Lowest bankroll: {min(bankroll_snapshots)}\")\n",
    "sns.lineplot(bankroll_snapshots)"
   ],
   "metadata": {
    "collapsed": false,
    "ExecuteTime": {
     "end_time": "2024-04-03T13:55:06.467829Z",
     "start_time": "2024-04-03T13:55:06.207443Z"
    }
   },
   "id": "e00365c3c0a34642",
   "execution_count": 2,
   "outputs": []
  },
  {
   "metadata": {
    "ExecuteTime": {
     "end_time": "2024-06-12T21:52:10.015287Z",
     "start_time": "2024-06-12T21:52:05.652878Z"
    }
   },
   "cell_type": "code",
   "source": [
    "from DataAbstraction.Present.RaceCard import RaceCard\n",
    "from Persistence.RaceCardPersistence import RaceDataPersistence\n",
    "from Model.Betting.bet import LiveResult\n",
    "from math import isnan\n",
    "import os\n",
    "import pandas as pd\n",
    "from tqdm import tqdm\n",
    "from util.stats_calculator import get_max_draw_down\n",
    "from util.plot import plot_wealth_growth\n",
    "from typing import List, Dict\n",
    "from DataAbstraction.util.track_name_mapping import get_unique_track_name\n",
    "from IPython.display import display\n",
    "\n",
    "def get_live_results(live_bets_file_name: str, race_cards: Dict[str, RaceCard]) -> List[LiveResult]:\n",
    "    header_row = 3\n",
    "    bets_df = pd.read_excel(live_bets_file_name, header=header_row)\n",
    "    \n",
    "    name_pattern = r'/ (.*?) /'\n",
    "    \n",
    "    pattern = r'^(.*?)\\s(\\d{1,2})\\s\\w{3}\\s/'\n",
    "    \n",
    "    bets_df['Name'] = bets_df['Description'].str.extract(name_pattern)\n",
    "    bets_df[\"Name\"] = bets_df[\"Name\"].str.lower()\n",
    "    \n",
    "    # Use str.extract() to extract the track name, day, and month and create new columns\n",
    "    bets_df[['Track', 'Day']] = bets_df['Description'].str.extract(pattern)\n",
    "    bets_df[\"Track\"] = bets_df[\"Track\"].apply(get_unique_track_name)\n",
    "    bets_df[\"Day\"] = bets_df[\"Day\"].astype(int)\n",
    "    \n",
    "    # display(bets_df[bets_df[\"Track\"] == \"Ascot\"])\n",
    "    \n",
    "    sp_data = {\"Track\": [], \"Day\": [], \"Name\": [], \"SP\": []}\n",
    "        \n",
    "    for race_card in race_cards.values():\n",
    "        for runner in race_card.runners:\n",
    "            sp_data[\"Track\"].append(race_card.track_name)\n",
    "            sp_data[\"Day\"].append(race_card.datetime.day)\n",
    "            sp_data[\"Name\"].append(runner.name.replace(\"'\", \"\").lower())\n",
    "            sp_data[\"SP\"].append(runner.win_sp)\n",
    "            \n",
    "    sp_df = pd.DataFrame.from_dict(sp_data)\n",
    "    bets_sp_df = pd.merge(bets_df, sp_df, on=[\"Track\", \"Day\", \"Name\"], how=\"inner\")\n",
    "    \n",
    "    live_results = []\n",
    "    bets_sp_df = bets_sp_df.sort_values(by=\"Day\")\n",
    "    for row in bets_sp_df.itertuples(index=False):\n",
    "        if isnan(row.SP):\n",
    "            print(row)\n",
    "        has_won = row.Status == \"Won\"\n",
    "        win = 0\n",
    "        if has_won:\n",
    "            win = row.Stake * row.Odds\n",
    "        live_results.append(LiveResult(row.Odds, row.SP, has_won, win=win, loss=row.Stake, stakes=row.Stake))\n",
    "        \n",
    "    return live_results\n",
    "    \n",
    "race_cards_loader = RaceDataPersistence(\"race_cards_release\")\n",
    "live_bets_dir = \"../data/live_bets\"\n",
    "live_results = []\n",
    "for i, live_bets_file_name in enumerate(sorted(os.listdir(live_bets_dir))):\n",
    "    race_card_file_name = race_cards_loader.race_data_file_names[-4 + i]\n",
    "    race_cards = race_cards_loader.load_race_card_files_non_writable([race_card_file_name])\n",
    "    live_results += get_live_results(os.path.join(live_bets_dir, live_bets_file_name), race_cards)\n",
    "    \n",
    "live_results = live_results[-87:]\n",
    "#---------------------------------------------------------\n",
    "clvs = [result.clv for result in live_results]\n",
    "soft_payouts = [result.clv * result.stakes for result in live_results]\n",
    "print(f\"Max draw down of soft payouts: {get_max_draw_down(soft_payouts)}\")\n",
    "positive_clv_percentage = len([1 for payout in soft_payouts if payout > 0]) / len(soft_payouts)\n",
    "print(f\"% of positive clv: {positive_clv_percentage}\")\n",
    "\n",
    "payouts = [result.payout for result in live_results]\n",
    "print(pd.Series(clvs).describe())\n",
    "\n",
    "expected_wins = sum([1 / live_result.starting_odds for live_result in live_results])\n",
    "n_wins = sum([1 for live_result in live_results if live_result.has_won])\n",
    "print(f\"Expected/Actual wins: {expected_wins}/{n_wins}\")\n",
    "print(f\"Win percentage: {n_wins / len(live_results)}\")\n",
    "\n",
    "# plot_wealth_growth(payouts, label=\"Raw Payouts\")\n",
    "plot_wealth_growth(soft_payouts, label=\"Soft payouts\")\n",
    "print(sum(soft_payouts))"
   ],
   "id": "47aa800fb8e481e6",
   "outputs": [
    {
     "name": "stderr",
     "output_type": "stream",
     "text": [
      "/home/daniel/PycharmProjects/WageringSystem/venv/lib/python3.8/site-packages/openpyxl/styles/stylesheet.py:226: UserWarning: Workbook contains no default style, apply openpyxl's default\n",
      "  warn(\"Workbook contains no default style, apply openpyxl's default\")\n",
      "/home/daniel/PycharmProjects/WageringSystem/venv/lib/python3.8/site-packages/openpyxl/styles/stylesheet.py:226: UserWarning: Workbook contains no default style, apply openpyxl's default\n",
      "  warn(\"Workbook contains no default style, apply openpyxl's default\")\n",
      "/home/daniel/PycharmProjects/WageringSystem/venv/lib/python3.8/site-packages/openpyxl/styles/stylesheet.py:226: UserWarning: Workbook contains no default style, apply openpyxl's default\n",
      "  warn(\"Workbook contains no default style, apply openpyxl's default\")\n",
      "/home/daniel/PycharmProjects/WageringSystem/venv/lib/python3.8/site-packages/openpyxl/styles/stylesheet.py:226: UserWarning: Workbook contains no default style, apply openpyxl's default\n",
      "  warn(\"Workbook contains no default style, apply openpyxl's default\")\n"
     ]
    },
    {
     "name": "stdout",
     "output_type": "stream",
     "text": [
      "Max draw down of soft payouts: 6.227667337868013\n",
      "% of positive clv: 0.5632183908045977\n",
      "count    87.000000\n",
      "mean      0.071880\n",
      "std       0.360673\n",
      "min      -0.721264\n",
      "25%      -0.189281\n",
      "50%       0.049362\n",
      "75%       0.245539\n",
      "max       1.532778\n",
      "dtype: float64\n",
      "Expected/Actual wins: 22.236054565186546/18\n",
      "Win percentage: 0.20689655172413793\n",
      "35.592647469199605\n"
     ]
    },
    {
     "data": {
      "text/plain": [
       "<Figure size 640x480 with 1 Axes>"
      ],
      "image/png": "[encoded data removed]"
     },
     "metadata": {},
     "output_type": "display_data"
    }
   ],
   "execution_count": 2
  },
  {
   "metadata": {
    "ExecuteTime": {
     "end_time": "2024-06-13T00:19:17.087665Z",
     "start_time": "2024-06-13T00:19:13.489040Z"
    }
   },
   "cell_type": "code",
   "source": [
    "import numpy as np\n",
    "import seaborn as sns\n",
    "\n",
    "recent_live_results = live_results[-50:]\n",
    "recent_live_results *= 100\n",
    "\n",
    "end_wealths = []\n",
    "min_wealths = []\n",
    "final_negative_idx_list = []\n",
    "for _ in range(1000):\n",
    "    idx = 0\n",
    "    final_negative_idx = idx\n",
    "    wealth = 0\n",
    "    min_wealth = 0\n",
    "    for result in recent_live_results:\n",
    "        win_p = 1 / result.starting_odds\n",
    "        if np.random.rand() <= win_p:\n",
    "            wealth_change = result.offer_odds - 1\n",
    "        else:\n",
    "            wealth_change = -1\n",
    "        wealth += wealth_change\n",
    "        idx += 1\n",
    "        if wealth <= 0:\n",
    "            final_negative_idx = idx\n",
    "        if wealth < min_wealth:\n",
    "            min_wealth = wealth\n",
    "        \n",
    "    end_wealths.append(wealth)\n",
    "    min_wealths.append(min_wealth)\n",
    "    final_negative_idx_list.append(final_negative_idx)\n",
    "    \n",
    "print(pd.Series(end_wealths).describe())\n",
    "print(pd.Series(min_wealths).describe())\n",
    "print(pd.Series(final_negative_idx_list).describe())"
   ],
   "id": "eb84625955ed5c86",
   "outputs": [
    {
     "name": "stdout",
     "output_type": "stream",
     "text": [
      "count    1000.000000\n",
      "mean      450.517705\n",
      "std       139.079241\n",
      "min       -11.881708\n",
      "25%       353.881082\n",
      "50%       442.546102\n",
      "75%       543.989930\n",
      "max       869.280018\n",
      "dtype: float64\n",
      "count    1000.000000\n",
      "mean      -18.420218\n",
      "std        19.840730\n",
      "min      -124.246737\n",
      "25%       -26.074334\n",
      "50%       -12.372730\n",
      "75%        -4.000000\n",
      "max         0.000000\n",
      "dtype: float64\n",
      "count    1000.000000\n",
      "mean      435.309000\n",
      "std       631.927768\n",
      "min         0.000000\n",
      "25%        25.000000\n",
      "50%       190.000000\n",
      "75%       574.250000\n",
      "max      5000.000000\n",
      "dtype: float64\n"
     ]
    }
   ],
   "execution_count": 32
  },
  {
   "metadata": {
    "ExecuteTime": {
     "end_time": "2024-04-06T14:52:02.688693Z",
     "start_time": "2024-04-06T14:52:02.499581Z"
    }
   },
   "cell_type": "code",
   "source": [
    "from scipy.stats import pearsonr\n",
    "import seaborn as sns\n",
    "\n",
    "offer_odds = [result.offer_odds for result in live_results]\n",
    "sns.scatterplot(x=offer_odds, y=clvs)\n",
    "\n",
    "pearsonr(x=offer_odds, y=clvs)"
   ],
   "id": "6d694f869d7da111",
   "execution_count": 2,
   "outputs": []
  },
  {
   "metadata": {},
   "cell_type": "code",
   "execution_count": null,
   "source": "",
   "id": "bd32b54f961979c2",
   "outputs": []
  }
 ],
 "metadata": {
  "kernelspec": {
   "display_name": "Python 3",
   "language": "python",
   "name": "python3"
  },
  "language_info": {
   "codemirror_mode": {
    "name": "ipython",
    "version": 2
   },
   "file_extension": ".py",
   "mimetype": "text/x-python",
   "name": "python",
   "nbconvert_exporter": "python",
   "pygments_lexer": "ipython2",
   "version": "2.7.6"
  }
 },
 "nbformat": 4,
 "nbformat_minor": 5
}
