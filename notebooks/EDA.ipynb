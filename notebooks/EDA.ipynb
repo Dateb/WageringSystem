{
 "cells": [
  {
   "cell_type": "markdown",
   "source": [
    "## Brief glance at the main data frame"
   ],
   "metadata": {
    "collapsed": false
   }
  },
  {
   "cell_type": "code",
   "execution_count": 3,
   "source": [
    "import pandas as pd\n",
    "import seaborn as sns\n",
    "\n",
    "races_df = pd.read_csv(\"../data/samples/test_sample.csv\")\n",
    "\n",
    "races_df"
   ],
   "metadata": {
    "collapsed": false,
    "ExecuteTime": {
     "end_time": "2024-03-28T22:55:43.668989Z",
     "start_time": "2024-03-28T22:55:43.247104Z"
    }
   },
   "outputs": []
  },
  {
   "cell_type": "code",
   "execution_count": 4,
   "source": [
    "races_df[races_df[\"race_id\"] == 6753590]"
   ],
   "metadata": {
    "collapsed": false,
    "ExecuteTime": {
     "end_time": "2024-03-19T23:01:03.688176Z",
     "start_time": "2024-03-19T23:01:03.660763Z"
    }
   },
   "outputs": []
  },
  {
   "cell_type": "code",
   "source": [
    "import pandas as pd\n",
    "\n",
    "races_df = pd.read_csv(\"../data/leakage_detection/live/2024-01-05.csv\")\n",
    "\n",
    "races_df"
   ],
   "metadata": {
    "collapsed": false,
    "ExecuteTime": {
     "end_time": "2024-03-20T17:12:35.176220Z",
     "start_time": "2024-03-20T17:12:34.698469Z"
    }
   },
   "execution_count": 6,
   "outputs": []
  },
  {
   "cell_type": "code",
   "source": [
    "import pickle\n",
    "import seaborn as sns\n",
    "from ModelTuning.simulate_conf import LEARNING_CURVE_PATH\n",
    "\n",
    "with open(LEARNING_CURVE_PATH, \"rb\") as f:\n",
    "    learning_curve = pickle.load(f)\n",
    "\n",
    "print(learning_curve)\n",
    "\n",
    "sns.lineplot(learning_curve)"
   ],
   "metadata": {
    "collapsed": false,
    "ExecuteTime": {
     "end_time": "2023-12-31T14:28:48.334629763Z",
     "start_time": "2023-12-31T14:28:48.110106447Z"
    }
   },
   "execution_count": 8,
   "outputs": []
  },
  {
   "cell_type": "markdown",
   "source": [
    "## How many horses per race on average?"
   ],
   "metadata": {
    "collapsed": false
   }
  },
  {
   "cell_type": "code",
   "execution_count": 5,
   "source": [
    "COLUMN_NAME = \"PreviousValueSource_subject_id_relative_distance_behind\"\n",
    "TIME_INTERVAL = \"year-month\"\n",
    "\n",
    "# races_df = races_df[races_df[\"PreviousWinProbability\"] != -1]\n",
    "\n",
    "races_df[\"year-month\"] = races_df[\"date_time\"].astype(str).str[:7]\n",
    "races_df[\"date\"] = pd.to_datetime(races_df[\"date_time\"], format='%Y-%m-%d')\n",
    "races_df[\"dayofweek\"] = races_df[\"date\"].dt.dayofweek.astype(str)\n",
    "races_df[\"hour\"] = races_df[\"date\"].dt.hour.astype(str)\n",
    "races_df[\"minute\"] = races_df[\"date\"].dt.minute.astype(str)\n",
    "races_df[\"month\"] = races_df[\"date\"].dt.month.astype(str)\n",
    "\n",
    "print(races_df.groupby([TIME_INTERVAL]).agg(std=(COLUMN_NAME, \"std\")))\n",
    "print(races_df.groupby([TIME_INTERVAL]).agg(std=(COLUMN_NAME, \"mean\")))\n",
    "\n",
    "# races_df_no_rating = races_df[races_df[\"PreviousWinProbability\"] == -1]\n",
    "# print(races_df_no_rating.groupby([TIME_INTERVAL]).size())\n",
    "\n",
    "sns.set(rc={'figure.figsize':(26,15)})\n",
    "sns.boxplot(data=races_df, x=COLUMN_NAME, y=TIME_INTERVAL)"
   ],
   "metadata": {
    "collapsed": false,
    "ExecuteTime": {
     "end_time": "2024-03-20T17:04:17.365177Z",
     "start_time": "2024-03-20T17:04:16.896260Z"
    }
   },
   "outputs": []
  },
  {
   "cell_type": "code",
   "source": [
    "import pandas as pd\n",
    "\n",
    "races_df = pd.read_csv('../data/samples/latest_live_sample.csv')\n",
    "\n",
    "races_df"
   ],
   "metadata": {
    "collapsed": false,
    "ExecuteTime": {
     "end_time": "2024-03-28T10:44:38.437646Z",
     "start_time": "2024-03-28T10:44:38.380748Z"
    }
   },
   "execution_count": 1,
   "outputs": []
  },
  {
   "cell_type": "code",
   "source": [
    "races_df[races_df[\"race_id\"] == 6775532]"
   ],
   "metadata": {
    "collapsed": false,
    "ExecuteTime": {
     "end_time": "2024-03-28T10:44:50.832743Z",
     "start_time": "2024-03-28T10:44:50.801336Z"
    }
   },
   "execution_count": 2,
   "outputs": []
  },
  {
   "cell_type": "code",
   "execution_count": 6,
   "source": [
    "avg_horses_per_race = races_df.groupby(\"race_id\").size().mean()\n",
    "\n",
    "print(f\"Average horses per race: {avg_horses_per_race}. Chance to randomly guess the winner: {1 / avg_horses_per_race}\")"
   ],
   "metadata": {
    "collapsed": false,
    "ExecuteTime": {
     "start_time": "2023-10-06T11:41:52.999506939Z"
    }
   },
   "outputs": []
  },
  {
   "cell_type": "code",
   "execution_count": 9,
   "source": [
    "grouped = races_df.groupby('race_id')\n",
    "\n",
    "# Use idxmax to get the index of the row with the highest value in each group\n",
    "max_indexes = grouped['score'].idxmax()\n",
    "\n",
    "# Use the indexes to extract the rows with the highest values\n",
    "result_df = races_df.loc[max_indexes]\n",
    "\n",
    "n_predictions = len(result_df)\n",
    "\n",
    "n_correct_predictions = len(result_df[result_df[\"place\"] == 1])\n",
    "\n",
    "print(f\"Number of predictions: {n_predictions}\")\n",
    "print(f\"Number of correct predictions: {n_correct_predictions}\")\n",
    "print(f\"Accuracy: {n_correct_predictions / n_predictions}\")\n",
    "\n",
    "print(result_df)"
   ],
   "metadata": {
    "collapsed": false,
    "ExecuteTime": {
     "end_time": "2023-12-03T19:35:39.937498544Z",
     "start_time": "2023-12-03T19:35:39.282275428Z"
    }
   },
   "outputs": []
  },
  {
   "cell_type": "code",
   "execution_count": 9,
   "source": [
    "len(result_df[result_df[\"label\"] == 1]) / len(result_df)"
   ],
   "metadata": {
    "collapsed": false,
    "ExecuteTime": {
     "start_time": "2023-10-02T16:22:26.059194818Z"
    }
   },
   "outputs": []
  },
  {
   "cell_type": "code",
   "execution_count": 38,
   "source": [
    "races_df[\"track_name\"] = races_df[\"race_name\"].astype(str).str[:-2]\n",
    "\n",
    "races_df = races_df[races_df[\"track_name\"] == \"Aintree\"]\n",
    "sns.scatterplot(data=races_df, x=\"track_name\", y=\"year-month\")"
   ],
   "metadata": {
    "collapsed": false
   },
   "outputs": []
  },
  {
   "cell_type": "markdown",
   "source": [
    "## Distance Outlier Visualization"
   ],
   "metadata": {
    "collapsed": false
   }
  },
  {
   "cell_type": "code",
   "execution_count": 4,
   "source": [
    "sns.displot(races_df, x=\"CurrentDistance\", y=\"CurrentRaceClass\")"
   ],
   "metadata": {
    "collapsed": false
   },
   "outputs": []
  },
  {
   "cell_type": "code",
   "execution_count": 11,
   "source": [
    "distances = list(races_df[\"CurrentDistance\"].values)\n",
    "\n",
    "sns.distplot(distances)"
   ],
   "metadata": {
    "collapsed": false
   },
   "outputs": []
  },
  {
   "cell_type": "markdown",
   "source": [
    "# Covariate Shift Detection"
   ],
   "metadata": {
    "collapsed": false
   }
  },
  {
   "cell_type": "markdown",
   "source": [
    "## 1.) Between a month and its predecessor"
   ],
   "metadata": {
    "collapsed": false
   }
  },
  {
   "cell_type": "code",
   "execution_count": 51,
   "source": [
    "from sklearn.model_selection import train_test_split\n",
    "from sklearn.preprocessing import StandardScaler\n",
    "from sklearn.linear_model import LogisticRegression\n",
    "import numpy as np\n",
    "\n",
    "races_df = pd.read_csv(\"../data/races.csv\")\n",
    "races_df[\"year-month\"] = races_df[\"date_time\"].astype(str).str[:7]\n",
    "\n",
    "month_df = races_df[races_df[\"year-month\"].isin([\"2022-09\", \"2022-08\"])]\n",
    "month_df[\"label\"] = np.where(month_df[\"year-month\"] == \"2022-09\", 1, 0)\n",
    "\n",
    "month_df = month_df.fillna(value=-1)\n",
    "\n",
    "month_df = month_df.drop([\"date_time\", \"race_id\", \"horse_id\", \"year-month\", \"Month_Sin\", \"Month_Cos\", \"Unnamed: 0\"], axis=1)\n",
    "\n",
    "print(month_df)\n",
    "\n",
    "features = [column for column in month_df.columns if column not in [\"label\"]]\n",
    "shift_X = month_df.loc[:, features]\n",
    "scaler = StandardScaler().fit(shift_X)\n",
    "shift_X = scaler.transform(shift_X)\n",
    "\n",
    "shift_y = month_df.loc[:, \"label\"]\n",
    "\n",
    "X_train, X_test, y_train, y_test = train_test_split(shift_X, shift_y, test_size=0.33, random_state=42, stratify=shift_y)\n",
    "\n",
    "log_regression_classifier = LogisticRegression(random_state=0).fit(X_train, y_train)\n",
    "print(f\"Classifier score:{log_regression_classifier.score(X_test, y_test)}\")\n",
    "\n",
    "coef_data = {\n",
    "    \"feature name\": list([column for column in features]),\n",
    "    \"coeff\": list(list(log_regression_classifier.coef_)[0]),\n",
    "}\n",
    "\n",
    "coeff_df = pd.DataFrame.from_dict(coef_data)\n",
    "coeff_df.sort_values(by=[\"coeff\"])"
   ],
   "metadata": {
    "collapsed": false
   },
   "outputs": []
  },
  {
   "cell_type": "markdown",
   "source": [
    "## Real time sample inspection"
   ],
   "metadata": {
    "collapsed": false
   }
  },
  {
   "cell_type": "code",
   "execution_count": 1,
   "source": [
    "import pandas as pd\n",
    "\n",
    "real_time_sample_df = pd.read_csv(\"../data/logs/samples/real_time_5686367\")\n",
    "\n",
    "real_time_sample_df"
   ],
   "metadata": {
    "collapsed": false
   },
   "outputs": []
  },
  {
   "cell_type": "code",
   "execution_count": null,
   "source": [
    "from tqdm import tqdm\n",
    "from Persistence.RaceCardPersistence import RaceCardsPersistence\n",
    "\n",
    "race_cards_persistence = RaceCardsPersistence(\"race_cards\")\n",
    "\n",
    "for race_card_file_name in tqdm(race_cards_persistence.race_card_file_names):\n",
    "    race_cards = race_cards_persistence.load_race_card_files_non_writable([race_card_file_name])\n",
    "    for race_card in race_cards.values():\n",
    "        print(race_card.date)"
   ],
   "metadata": {
    "collapsed": false
   },
   "outputs": []
  },
  {
   "cell_type": "code",
   "source": [],
   "metadata": {
    "collapsed": false
   },
   "execution_count": null,
   "outputs": []
  }
 ],
 "metadata": {
  "kernelspec": {
   "display_name": "Python 3",
   "language": "python",
   "name": "python3"
  },
  "language_info": {
   "codemirror_mode": {
    "name": "ipython",
    "version": 2
   },
   "file_extension": ".py",
   "mimetype": "text/x-python",
   "name": "python",
   "nbconvert_exporter": "python",
   "pygments_lexer": "ipython2",
   "version": "2.7.6"
  }
 },
 "nbformat": 4,
 "nbformat_minor": 0
}
