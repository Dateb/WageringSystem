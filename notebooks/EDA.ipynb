{
 "cells": [
  {
   "cell_type": "markdown",
   "source": [
    "## Brief glance at the main data frame"
   ],
   "metadata": {
    "collapsed": false
   }
  },
  {
   "cell_type": "code",
   "source": [
    "import pandas as pd\n",
    "import seaborn as sns\n",
    "\n",
    "races_df = pd.read_csv(\"../data/samples/test_sample.csv\")\n",
    "\n",
    "races_df"
   ],
   "metadata": {
    "collapsed": false,
    "ExecuteTime": {
     "end_time": "2024-06-27T17:13:52.134358Z",
     "start_time": "2024-06-27T17:13:51.846933Z"
    }
   },
   "outputs": [
    {
     "data": {
      "text/plain": [
       "       Unnamed: 0  race_name            date_time  race_id  place_num  \\\n",
       "0              14  Newbury 1  2024-03-01 14:50:00  6709216          3   \n",
       "1              20  Newbury 1  2024-03-01 14:50:00  6709216          3   \n",
       "2              19  Newbury 1  2024-03-01 14:50:00  6709216          3   \n",
       "3              18  Newbury 1  2024-03-01 14:50:00  6709216          3   \n",
       "4              17  Newbury 1  2024-03-01 14:50:00  6709216          3   \n",
       "...           ...        ...                  ...      ...        ...   \n",
       "20534       20524  Windsor 7  2024-06-10 21:40:00  6965457          3   \n",
       "20535       20519  Windsor 7  2024-06-10 21:40:00  6965457          3   \n",
       "20536       20522  Windsor 7  2024-06-10 21:40:00  6965457          3   \n",
       "20537       20520  Windsor 7  2024-06-10 21:40:00  6965457          3   \n",
       "20538       20523  Windsor 7  2024-06-10 21:40:00  6965457          3   \n",
       "\n",
       "                     name  number  current_win_odds  current_place_odds  \\\n",
       "0             Thunderclap       6              6.75                2.22   \n",
       "1            Il Va De Soi      12              7.03                2.71   \n",
       "2             Kruger Park      11              8.60                3.15   \n",
       "3       Soldierofthestorm      10              5.52                2.12   \n",
       "4                 Havaila       9              9.95                2.93   \n",
       "...                   ...     ...               ...                 ...   \n",
       "20534         Major Major       7              8.20                2.60   \n",
       "20535              Naasma       2              2.79                1.42   \n",
       "20536      Bloomwithgrace       5             12.00                3.15   \n",
       "20537  D Day Arvalenreeva       3              4.80                1.89   \n",
       "20538            Carp Kid       6             14.94                3.50   \n",
       "\n",
       "       place  ...  PreviousValueSource_subject_id_race_date  \\\n",
       "0          6  ...                                    5543.0   \n",
       "1          2  ...                                       NaN   \n",
       "2          1  ...                                    1494.0   \n",
       "3          3  ...                                    4066.0   \n",
       "4          8  ...                                    7804.0   \n",
       "...      ...  ...                                       ...   \n",
       "20534      8  ...                                    1701.0   \n",
       "20535      5  ...                                    7099.0   \n",
       "20536      3  ...                                     502.0   \n",
       "20537      2  ...                                    1719.0   \n",
       "20538      4  ...                                    1744.0   \n",
       "\n",
       "      PreviousValueSource_subject_id_jockey_id_race_date  \\\n",
       "0                                                35669.0   \n",
       "1                                                40176.0   \n",
       "2                                               107584.0   \n",
       "3                                                 7654.0   \n",
       "4                                                43576.0   \n",
       "...                                                  ...   \n",
       "20534                                            58167.0   \n",
       "20535                                            71549.0   \n",
       "20536                                           144340.0   \n",
       "20537                                           496520.0   \n",
       "20538                                           103526.0   \n",
       "\n",
       "       PreviousValueSource_subject_id_track_name_race_date  \\\n",
       "0                                                22586.0     \n",
       "1                                                42488.0     \n",
       "2                                                70710.0     \n",
       "3                                                93700.0     \n",
       "4                                                36358.0     \n",
       "...                                                  ...     \n",
       "20534                                           215367.0     \n",
       "20535                                            40060.0     \n",
       "20536                                            91659.0     \n",
       "20537                                            76244.0     \n",
       "20538                                             9678.0     \n",
       "\n",
       "       PreviousValueSource_subject_id_race_class_race_date  \\\n",
       "0                                                   21.0     \n",
       "1                                                    NaN     \n",
       "2                                                   33.0     \n",
       "3                                                   16.0     \n",
       "4                                                   13.0     \n",
       "...                                                  ...     \n",
       "20534                                               10.0     \n",
       "20535                                               24.0     \n",
       "20536                                               28.0     \n",
       "20537                                               30.0     \n",
       "20538                                               21.0     \n",
       "\n",
       "       PreviousValueSource_subject_id_surface_race_date  \\\n",
       "0                                                   NaN   \n",
       "1                                                   NaN   \n",
       "2                                                   NaN   \n",
       "3                                                   NaN   \n",
       "4                                                   NaN   \n",
       "...                                                 ...   \n",
       "20534                                              10.0   \n",
       "20535                                              24.0   \n",
       "20536                                               NaN   \n",
       "20537                                               NaN   \n",
       "20538                                               NaN   \n",
       "\n",
       "       StreakSource_subject_id_has_won  StreakSource_subject_id_has_placed  \\\n",
       "0                                  NaN                                21.0   \n",
       "1                                  NaN                                 NaN   \n",
       "2                                  NaN                                 NaN   \n",
       "3                                  NaN                                16.0   \n",
       "4                                  NaN                                 NaN   \n",
       "...                                ...                                 ...   \n",
       "20534                              NaN                                10.0   \n",
       "20535                             42.0                                24.0   \n",
       "20536                             28.0                                28.0   \n",
       "20537                              NaN                                30.0   \n",
       "20538                             21.0                                35.0   \n",
       "\n",
       "       CurrentRaceCategory  Gender  Origin  \n",
       "0                     21.0     1.0     1.0  \n",
       "1                      NaN     NaN     NaN  \n",
       "2                     33.0    -1.0     1.0  \n",
       "3                     16.0     1.0     1.0  \n",
       "4                     13.0    -1.0    -1.0  \n",
       "...                    ...     ...     ...  \n",
       "20534                 10.0    -4.0    -4.0  \n",
       "20535                 24.0    -1.0     2.0  \n",
       "20536                 28.0    -3.0    -3.0  \n",
       "20537                 30.0    -1.0     1.0  \n",
       "20538                 21.0    -2.0    -1.0  \n",
       "\n",
       "[20539 rows x 142 columns]"
      ],
      "text/html": [
       "<div>\n",
       "<style scoped>\n",
       "    .dataframe tbody tr th:only-of-type {\n",
       "        vertical-align: middle;\n",
       "    }\n",
       "\n",
       "    .dataframe tbody tr th {\n",
       "        vertical-align: top;\n",
       "    }\n",
       "\n",
       "    .dataframe thead th {\n",
       "        text-align: right;\n",
       "    }\n",
       "</style>\n",
       "<table border=\"1\" class=\"dataframe\">\n",
       "  <thead>\n",
       "    <tr style=\"text-align: right;\">\n",
       "      <th></th>\n",
       "      <th>Unnamed: 0</th>\n",
       "      <th>race_name</th>\n",
       "      <th>date_time</th>\n",
       "      <th>race_id</th>\n",
       "      <th>place_num</th>\n",
       "      <th>name</th>\n",
       "      <th>number</th>\n",
       "      <th>current_win_odds</th>\n",
       "      <th>current_place_odds</th>\n",
       "      <th>place</th>\n",
       "      <th>...</th>\n",
       "      <th>PreviousValueSource_subject_id_race_date</th>\n",
       "      <th>PreviousValueSource_subject_id_jockey_id_race_date</th>\n",
       "      <th>PreviousValueSource_subject_id_track_name_race_date</th>\n",
       "      <th>PreviousValueSource_subject_id_race_class_race_date</th>\n",
       "      <th>PreviousValueSource_subject_id_surface_race_date</th>\n",
       "      <th>StreakSource_subject_id_has_won</th>\n",
       "      <th>StreakSource_subject_id_has_placed</th>\n",
       "      <th>CurrentRaceCategory</th>\n",
       "      <th>Gender</th>\n",
       "      <th>Origin</th>\n",
       "    </tr>\n",
       "  </thead>\n",
       "  <tbody>\n",
       "    <tr>\n",
       "      <th>0</th>\n",
       "      <td>14</td>\n",
       "      <td>Newbury 1</td>\n",
       "      <td>2024-03-01 14:50:00</td>\n",
       "      <td>6709216</td>\n",
       "      <td>3</td>\n",
       "      <td>Thunderclap</td>\n",
       "      <td>6</td>\n",
       "      <td>6.75</td>\n",
       "      <td>2.22</td>\n",
       "      <td>6</td>\n",
       "      <td>...</td>\n",
       "      <td>5543.0</td>\n",
       "      <td>35669.0</td>\n",
       "      <td>22586.0</td>\n",
       "      <td>21.0</td>\n",
       "      <td>NaN</td>\n",
       "      <td>NaN</td>\n",
       "      <td>21.0</td>\n",
       "      <td>21.0</td>\n",
       "      <td>1.0</td>\n",
       "      <td>1.0</td>\n",
       "    </tr>\n",
       "    <tr>\n",
       "      <th>1</th>\n",
       "      <td>20</td>\n",
       "      <td>Newbury 1</td>\n",
       "      <td>2024-03-01 14:50:00</td>\n",
       "      <td>6709216</td>\n",
       "      <td>3</td>\n",
       "      <td>Il Va De Soi</td>\n",
       "      <td>12</td>\n",
       "      <td>7.03</td>\n",
       "      <td>2.71</td>\n",
       "      <td>2</td>\n",
       "      <td>...</td>\n",
       "      <td>NaN</td>\n",
       "      <td>40176.0</td>\n",
       "      <td>42488.0</td>\n",
       "      <td>NaN</td>\n",
       "      <td>NaN</td>\n",
       "      <td>NaN</td>\n",
       "      <td>NaN</td>\n",
       "      <td>NaN</td>\n",
       "      <td>NaN</td>\n",
       "      <td>NaN</td>\n",
       "    </tr>\n",
       "    <tr>\n",
       "      <th>2</th>\n",
       "      <td>19</td>\n",
       "      <td>Newbury 1</td>\n",
       "      <td>2024-03-01 14:50:00</td>\n",
       "      <td>6709216</td>\n",
       "      <td>3</td>\n",
       "      <td>Kruger Park</td>\n",
       "      <td>11</td>\n",
       "      <td>8.60</td>\n",
       "      <td>3.15</td>\n",
       "      <td>1</td>\n",
       "      <td>...</td>\n",
       "      <td>1494.0</td>\n",
       "      <td>107584.0</td>\n",
       "      <td>70710.0</td>\n",
       "      <td>33.0</td>\n",
       "      <td>NaN</td>\n",
       "      <td>NaN</td>\n",
       "      <td>NaN</td>\n",
       "      <td>33.0</td>\n",
       "      <td>-1.0</td>\n",
       "      <td>1.0</td>\n",
       "    </tr>\n",
       "    <tr>\n",
       "      <th>3</th>\n",
       "      <td>18</td>\n",
       "      <td>Newbury 1</td>\n",
       "      <td>2024-03-01 14:50:00</td>\n",
       "      <td>6709216</td>\n",
       "      <td>3</td>\n",
       "      <td>Soldierofthestorm</td>\n",
       "      <td>10</td>\n",
       "      <td>5.52</td>\n",
       "      <td>2.12</td>\n",
       "      <td>3</td>\n",
       "      <td>...</td>\n",
       "      <td>4066.0</td>\n",
       "      <td>7654.0</td>\n",
       "      <td>93700.0</td>\n",
       "      <td>16.0</td>\n",
       "      <td>NaN</td>\n",
       "      <td>NaN</td>\n",
       "      <td>16.0</td>\n",
       "      <td>16.0</td>\n",
       "      <td>1.0</td>\n",
       "      <td>1.0</td>\n",
       "    </tr>\n",
       "    <tr>\n",
       "      <th>4</th>\n",
       "      <td>17</td>\n",
       "      <td>Newbury 1</td>\n",
       "      <td>2024-03-01 14:50:00</td>\n",
       "      <td>6709216</td>\n",
       "      <td>3</td>\n",
       "      <td>Havaila</td>\n",
       "      <td>9</td>\n",
       "      <td>9.95</td>\n",
       "      <td>2.93</td>\n",
       "      <td>8</td>\n",
       "      <td>...</td>\n",
       "      <td>7804.0</td>\n",
       "      <td>43576.0</td>\n",
       "      <td>36358.0</td>\n",
       "      <td>13.0</td>\n",
       "      <td>NaN</td>\n",
       "      <td>NaN</td>\n",
       "      <td>NaN</td>\n",
       "      <td>13.0</td>\n",
       "      <td>-1.0</td>\n",
       "      <td>-1.0</td>\n",
       "    </tr>\n",
       "    <tr>\n",
       "      <th>...</th>\n",
       "      <td>...</td>\n",
       "      <td>...</td>\n",
       "      <td>...</td>\n",
       "      <td>...</td>\n",
       "      <td>...</td>\n",
       "      <td>...</td>\n",
       "      <td>...</td>\n",
       "      <td>...</td>\n",
       "      <td>...</td>\n",
       "      <td>...</td>\n",
       "      <td>...</td>\n",
       "      <td>...</td>\n",
       "      <td>...</td>\n",
       "      <td>...</td>\n",
       "      <td>...</td>\n",
       "      <td>...</td>\n",
       "      <td>...</td>\n",
       "      <td>...</td>\n",
       "      <td>...</td>\n",
       "      <td>...</td>\n",
       "      <td>...</td>\n",
       "    </tr>\n",
       "    <tr>\n",
       "      <th>20534</th>\n",
       "      <td>20524</td>\n",
       "      <td>Windsor 7</td>\n",
       "      <td>2024-06-10 21:40:00</td>\n",
       "      <td>6965457</td>\n",
       "      <td>3</td>\n",
       "      <td>Major Major</td>\n",
       "      <td>7</td>\n",
       "      <td>8.20</td>\n",
       "      <td>2.60</td>\n",
       "      <td>8</td>\n",
       "      <td>...</td>\n",
       "      <td>1701.0</td>\n",
       "      <td>58167.0</td>\n",
       "      <td>215367.0</td>\n",
       "      <td>10.0</td>\n",
       "      <td>10.0</td>\n",
       "      <td>NaN</td>\n",
       "      <td>10.0</td>\n",
       "      <td>10.0</td>\n",
       "      <td>-4.0</td>\n",
       "      <td>-4.0</td>\n",
       "    </tr>\n",
       "    <tr>\n",
       "      <th>20535</th>\n",
       "      <td>20519</td>\n",
       "      <td>Windsor 7</td>\n",
       "      <td>2024-06-10 21:40:00</td>\n",
       "      <td>6965457</td>\n",
       "      <td>3</td>\n",
       "      <td>Naasma</td>\n",
       "      <td>2</td>\n",
       "      <td>2.79</td>\n",
       "      <td>1.42</td>\n",
       "      <td>5</td>\n",
       "      <td>...</td>\n",
       "      <td>7099.0</td>\n",
       "      <td>71549.0</td>\n",
       "      <td>40060.0</td>\n",
       "      <td>24.0</td>\n",
       "      <td>24.0</td>\n",
       "      <td>42.0</td>\n",
       "      <td>24.0</td>\n",
       "      <td>24.0</td>\n",
       "      <td>-1.0</td>\n",
       "      <td>2.0</td>\n",
       "    </tr>\n",
       "    <tr>\n",
       "      <th>20536</th>\n",
       "      <td>20522</td>\n",
       "      <td>Windsor 7</td>\n",
       "      <td>2024-06-10 21:40:00</td>\n",
       "      <td>6965457</td>\n",
       "      <td>3</td>\n",
       "      <td>Bloomwithgrace</td>\n",
       "      <td>5</td>\n",
       "      <td>12.00</td>\n",
       "      <td>3.15</td>\n",
       "      <td>3</td>\n",
       "      <td>...</td>\n",
       "      <td>502.0</td>\n",
       "      <td>144340.0</td>\n",
       "      <td>91659.0</td>\n",
       "      <td>28.0</td>\n",
       "      <td>NaN</td>\n",
       "      <td>28.0</td>\n",
       "      <td>28.0</td>\n",
       "      <td>28.0</td>\n",
       "      <td>-3.0</td>\n",
       "      <td>-3.0</td>\n",
       "    </tr>\n",
       "    <tr>\n",
       "      <th>20537</th>\n",
       "      <td>20520</td>\n",
       "      <td>Windsor 7</td>\n",
       "      <td>2024-06-10 21:40:00</td>\n",
       "      <td>6965457</td>\n",
       "      <td>3</td>\n",
       "      <td>D Day Arvalenreeva</td>\n",
       "      <td>3</td>\n",
       "      <td>4.80</td>\n",
       "      <td>1.89</td>\n",
       "      <td>2</td>\n",
       "      <td>...</td>\n",
       "      <td>1719.0</td>\n",
       "      <td>496520.0</td>\n",
       "      <td>76244.0</td>\n",
       "      <td>30.0</td>\n",
       "      <td>NaN</td>\n",
       "      <td>NaN</td>\n",
       "      <td>30.0</td>\n",
       "      <td>30.0</td>\n",
       "      <td>-1.0</td>\n",
       "      <td>1.0</td>\n",
       "    </tr>\n",
       "    <tr>\n",
       "      <th>20538</th>\n",
       "      <td>20523</td>\n",
       "      <td>Windsor 7</td>\n",
       "      <td>2024-06-10 21:40:00</td>\n",
       "      <td>6965457</td>\n",
       "      <td>3</td>\n",
       "      <td>Carp Kid</td>\n",
       "      <td>6</td>\n",
       "      <td>14.94</td>\n",
       "      <td>3.50</td>\n",
       "      <td>4</td>\n",
       "      <td>...</td>\n",
       "      <td>1744.0</td>\n",
       "      <td>103526.0</td>\n",
       "      <td>9678.0</td>\n",
       "      <td>21.0</td>\n",
       "      <td>NaN</td>\n",
       "      <td>21.0</td>\n",
       "      <td>35.0</td>\n",
       "      <td>21.0</td>\n",
       "      <td>-2.0</td>\n",
       "      <td>-1.0</td>\n",
       "    </tr>\n",
       "  </tbody>\n",
       "</table>\n",
       "<p>20539 rows × 142 columns</p>\n",
       "</div>"
      ]
     },
     "execution_count": 1,
     "metadata": {},
     "output_type": "execute_result"
    }
   ],
   "execution_count": 1
  },
  {
   "cell_type": "code",
   "execution_count": 4,
   "source": [
    "races_df[races_df[\"race_id\"] == 6753590]"
   ],
   "metadata": {
    "collapsed": false,
    "ExecuteTime": {
     "end_time": "2024-03-19T23:01:03.688176Z",
     "start_time": "2024-03-19T23:01:03.660763Z"
    }
   },
   "outputs": []
  },
  {
   "cell_type": "code",
   "source": [
    "import pandas as pd\n",
    "\n",
    "races_df = pd.read_csv(\"../data/leakage_detection/live/2024-01-05.csv\")\n",
    "\n",
    "races_df"
   ],
   "metadata": {
    "collapsed": false,
    "ExecuteTime": {
     "end_time": "2024-03-20T17:12:35.176220Z",
     "start_time": "2024-03-20T17:12:34.698469Z"
    }
   },
   "execution_count": 6,
   "outputs": []
  },
  {
   "cell_type": "code",
   "source": [
    "import pickle\n",
    "import seaborn as sns\n",
    "from ModelTuning.simulate_conf import LEARNING_CURVE_PATH\n",
    "\n",
    "with open(LEARNING_CURVE_PATH, \"rb\") as f:\n",
    "    learning_curve = pickle.load(f)\n",
    "\n",
    "print(learning_curve)\n",
    "\n",
    "sns.lineplot(learning_curve)"
   ],
   "metadata": {
    "collapsed": false,
    "ExecuteTime": {
     "end_time": "2023-12-31T14:28:48.334629763Z",
     "start_time": "2023-12-31T14:28:48.110106447Z"
    }
   },
   "execution_count": 8,
   "outputs": []
  },
  {
   "cell_type": "markdown",
   "source": [
    "## How many horses per race on average?"
   ],
   "metadata": {
    "collapsed": false
   }
  },
  {
   "cell_type": "code",
   "execution_count": 5,
   "source": [
    "COLUMN_NAME = \"PreviousValueSource_subject_id_relative_distance_behind\"\n",
    "TIME_INTERVAL = \"year-month\"\n",
    "\n",
    "# races_df = races_df[races_df[\"PreviousWinProbability\"] != -1]\n",
    "\n",
    "races_df[\"year-month\"] = races_df[\"date_time\"].astype(str).str[:7]\n",
    "races_df[\"date\"] = pd.to_datetime(races_df[\"date_time\"], format='%Y-%m-%d')\n",
    "races_df[\"dayofweek\"] = races_df[\"date\"].dt.dayofweek.astype(str)\n",
    "races_df[\"hour\"] = races_df[\"date\"].dt.hour.astype(str)\n",
    "races_df[\"minute\"] = races_df[\"date\"].dt.minute.astype(str)\n",
    "races_df[\"month\"] = races_df[\"date\"].dt.month.astype(str)\n",
    "\n",
    "print(races_df.groupby([TIME_INTERVAL]).agg(std=(COLUMN_NAME, \"std\")))\n",
    "print(races_df.groupby([TIME_INTERVAL]).agg(std=(COLUMN_NAME, \"mean\")))\n",
    "\n",
    "# races_df_no_rating = races_df[races_df[\"PreviousWinProbability\"] == -1]\n",
    "# print(races_df_no_rating.groupby([TIME_INTERVAL]).size())\n",
    "\n",
    "sns.set(rc={'figure.figsize':(26,15)})\n",
    "sns.boxplot(data=races_df, x=COLUMN_NAME, y=TIME_INTERVAL)"
   ],
   "metadata": {
    "collapsed": false,
    "ExecuteTime": {
     "end_time": "2024-03-20T17:04:17.365177Z",
     "start_time": "2024-03-20T17:04:16.896260Z"
    }
   },
   "outputs": []
  },
  {
   "cell_type": "code",
   "source": [
    "import pandas as pd\n",
    "\n",
    "races_df = pd.read_csv('../data/samples/latest_live_sample.csv')\n",
    "\n",
    "races_df"
   ],
   "metadata": {
    "collapsed": false,
    "ExecuteTime": {
     "end_time": "2024-03-28T10:44:38.437646Z",
     "start_time": "2024-03-28T10:44:38.380748Z"
    }
   },
   "execution_count": 1,
   "outputs": []
  },
  {
   "cell_type": "code",
   "source": [
    "races_df[races_df[\"race_id\"] == 6775532]"
   ],
   "metadata": {
    "collapsed": false,
    "ExecuteTime": {
     "end_time": "2024-03-28T10:44:50.832743Z",
     "start_time": "2024-03-28T10:44:50.801336Z"
    }
   },
   "execution_count": 2,
   "outputs": []
  },
  {
   "cell_type": "code",
   "execution_count": 6,
   "source": [
    "avg_horses_per_race = races_df.groupby(\"race_id\").size().mean()\n",
    "\n",
    "print(f\"Average horses per race: {avg_horses_per_race}. Chance to randomly guess the winner: {1 / avg_horses_per_race}\")"
   ],
   "metadata": {
    "collapsed": false,
    "ExecuteTime": {
     "start_time": "2023-10-06T11:41:52.999506939Z"
    }
   },
   "outputs": []
  },
  {
   "cell_type": "code",
   "execution_count": 9,
   "source": [
    "grouped = races_df.groupby('race_id')\n",
    "\n",
    "# Use idxmax to get the index of the row with the highest value in each group\n",
    "max_indexes = grouped['score'].idxmax()\n",
    "\n",
    "# Use the indexes to extract the rows with the highest values\n",
    "result_df = races_df.loc[max_indexes]\n",
    "\n",
    "n_predictions = len(result_df)\n",
    "\n",
    "n_correct_predictions = len(result_df[result_df[\"place\"] == 1])\n",
    "\n",
    "print(f\"Number of predictions: {n_predictions}\")\n",
    "print(f\"Number of correct predictions: {n_correct_predictions}\")\n",
    "print(f\"Accuracy: {n_correct_predictions / n_predictions}\")\n",
    "\n",
    "print(result_df)"
   ],
   "metadata": {
    "collapsed": false,
    "ExecuteTime": {
     "end_time": "2023-12-03T19:35:39.937498544Z",
     "start_time": "2023-12-03T19:35:39.282275428Z"
    }
   },
   "outputs": []
  },
  {
   "cell_type": "code",
   "execution_count": 9,
   "source": [
    "len(result_df[result_df[\"label\"] == 1]) / len(result_df)"
   ],
   "metadata": {
    "collapsed": false,
    "ExecuteTime": {
     "start_time": "2023-10-02T16:22:26.059194818Z"
    }
   },
   "outputs": []
  },
  {
   "cell_type": "code",
   "execution_count": 38,
   "source": [
    "races_df[\"track_name\"] = races_df[\"race_name\"].astype(str).str[:-2]\n",
    "\n",
    "races_df = races_df[races_df[\"track_name\"] == \"Aintree\"]\n",
    "sns.scatterplot(data=races_df, x=\"track_name\", y=\"year-month\")"
   ],
   "metadata": {
    "collapsed": false
   },
   "outputs": []
  },
  {
   "cell_type": "markdown",
   "source": [
    "## Distance Outlier Visualization"
   ],
   "metadata": {
    "collapsed": false
   }
  },
  {
   "cell_type": "code",
   "execution_count": 4,
   "source": [
    "sns.displot(races_df, x=\"CurrentDistance\", y=\"CurrentRaceClass\")"
   ],
   "metadata": {
    "collapsed": false
   },
   "outputs": []
  },
  {
   "cell_type": "code",
   "execution_count": 11,
   "source": [
    "distances = list(races_df[\"CurrentDistance\"].values)\n",
    "\n",
    "sns.distplot(distances)"
   ],
   "metadata": {
    "collapsed": false
   },
   "outputs": []
  },
  {
   "cell_type": "markdown",
   "source": [
    "# Covariate Shift Detection"
   ],
   "metadata": {
    "collapsed": false
   }
  },
  {
   "cell_type": "markdown",
   "source": [
    "## 1.) Between a month and its predecessor"
   ],
   "metadata": {
    "collapsed": false
   }
  },
  {
   "cell_type": "code",
   "execution_count": 51,
   "source": [
    "from sklearn.model_selection import train_test_split\n",
    "from sklearn.preprocessing import StandardScaler\n",
    "from sklearn.linear_model import LogisticRegression\n",
    "import numpy as np\n",
    "\n",
    "races_df = pd.read_csv(\"../data/races.csv\")\n",
    "races_df[\"year-month\"] = races_df[\"date_time\"].astype(str).str[:7]\n",
    "\n",
    "month_df = races_df[races_df[\"year-month\"].isin([\"2022-09\", \"2022-08\"])]\n",
    "month_df[\"label\"] = np.where(month_df[\"year-month\"] == \"2022-09\", 1, 0)\n",
    "\n",
    "month_df = month_df.fillna(value=-1)\n",
    "\n",
    "month_df = month_df.drop([\"date_time\", \"race_id\", \"horse_id\", \"year-month\", \"Month_Sin\", \"Month_Cos\", \"Unnamed: 0\"], axis=1)\n",
    "\n",
    "print(month_df)\n",
    "\n",
    "features = [column for column in month_df.columns if column not in [\"label\"]]\n",
    "shift_X = month_df.loc[:, features]\n",
    "scaler = StandardScaler().fit(shift_X)\n",
    "shift_X = scaler.transform(shift_X)\n",
    "\n",
    "shift_y = month_df.loc[:, \"label\"]\n",
    "\n",
    "X_train, X_test, y_train, y_test = train_test_split(shift_X, shift_y, test_size=0.33, random_state=42, stratify=shift_y)\n",
    "\n",
    "log_regression_classifier = LogisticRegression(random_state=0).fit(X_train, y_train)\n",
    "print(f\"Classifier score:{log_regression_classifier.score(X_test, y_test)}\")\n",
    "\n",
    "coef_data = {\n",
    "    \"feature name\": list([column for column in features]),\n",
    "    \"coeff\": list(list(log_regression_classifier.coef_)[0]),\n",
    "}\n",
    "\n",
    "coeff_df = pd.DataFrame.from_dict(coef_data)\n",
    "coeff_df.sort_values(by=[\"coeff\"])"
   ],
   "metadata": {
    "collapsed": false
   },
   "outputs": []
  },
  {
   "cell_type": "markdown",
   "source": [
    "## Real time sample inspection"
   ],
   "metadata": {
    "collapsed": false
   }
  },
  {
   "cell_type": "code",
   "execution_count": 1,
   "source": [
    "import pandas as pd\n",
    "\n",
    "real_time_sample_df = pd.read_csv(\"../data/logs/samples/real_time_5686367\")\n",
    "\n",
    "real_time_sample_df"
   ],
   "metadata": {
    "collapsed": false
   },
   "outputs": []
  },
  {
   "cell_type": "code",
   "execution_count": null,
   "source": [
    "from tqdm import tqdm\n",
    "from Persistence.RaceCardPersistence import RaceCardsPersistence\n",
    "\n",
    "race_cards_persistence = RaceCardsPersistence(\"race_cards\")\n",
    "\n",
    "for race_card_file_name in tqdm(race_cards_persistence.race_card_file_names):\n",
    "    race_cards = race_cards_persistence.load_race_card_files_non_writable([race_card_file_name])\n",
    "    for race_card in race_cards.values():\n",
    "        print(race_card.date)"
   ],
   "metadata": {
    "collapsed": false
   },
   "outputs": []
  },
  {
   "cell_type": "code",
   "source": [],
   "metadata": {
    "collapsed": false
   },
   "execution_count": null,
   "outputs": []
  }
 ],
 "metadata": {
  "kernelspec": {
   "display_name": "Python 3",
   "language": "python",
   "name": "python3"
  },
  "language_info": {
   "codemirror_mode": {
    "name": "ipython",
    "version": 2
   },
   "file_extension": ".py",
   "mimetype": "text/x-python",
   "name": "python",
   "nbconvert_exporter": "python",
   "pygments_lexer": "ipython2",
   "version": "2.7.6"
  }
 },
 "nbformat": 4,
 "nbformat_minor": 0
}
