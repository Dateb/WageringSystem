{
 "cells": [
  {
   "cell_type": "code",
   "source": [
    "from ipywidgets import Datetime\n",
    "from typing import List, Tuple\n",
    "from Model.Betting.bet import Bet\n",
    "import numpy as np\n",
    "from numpy import cumsum\n",
    "import time\n",
    "\n",
    "def plot_cumsum_over_time(values: List[float], times: List[Datetime], axis, label, color: str, linestyle: str, starting_bankroll: float = 1500):\n",
    "    cumsum_values = cumsum(values) + starting_bankroll\n",
    "    \n",
    "    sns.lineplot(ax=axis, x=times, y=cumsum_values, label=label, color=color, linestyle=linestyle, errorbar=None)\n",
    "    \n",
    "def plot_cumsum_over_count(values: List[float], axis, label, color: str, linestyle: str, starting_bankroll: float = 1500):\n",
    "    count_values = list(range(len(values)))\n",
    "    cumsum_values = cumsum(values)\n",
    "    \n",
    "    sns.lineplot(ax=axis, x=count_values, y=cumsum_values, label=label, color=color, linestyle=linestyle, errorbar=None)\n",
    "    \n",
    "def get_wealth_snapshots(test_bets: List[Bet], kelly_fraction: float) -> Tuple[List[float], List[float]]:\n",
    "    wealth_snapshots = []\n",
    "    stakes = []\n",
    "    wins_of_day = 0.0\n",
    "    current_day = test_bets[0].bet_offer.offer_datetime.day\n",
    "    start_day_wealth = 1.0\n",
    "    current_wealth = start_day_wealth\n",
    "    \n",
    "    for bet in test_bets:\n",
    "        if bet.bet_offer.offer_datetime.day != current_day:\n",
    "            current_day = bet.bet_offer.offer_datetime.day\n",
    "            current_wealth += wins_of_day\n",
    "            start_day_wealth = current_wealth\n",
    "            wins_of_day = 0.0\n",
    "            \n",
    "        win = start_day_wealth * kelly_fraction * bet.win\n",
    "        loss = start_day_wealth * kelly_fraction * bet.loss\n",
    "        \n",
    "        wins_of_day += win\n",
    "        \n",
    "        current_wealth -= loss\n",
    "        wealth_snapshots.append(current_wealth)\n",
    "        \n",
    "        stakes_amount = start_day_wealth * kelly_fraction * bet.stakes\n",
    "        stakes.append(stakes_amount)\n",
    "\n",
    "    return wealth_snapshots, stakes\n",
    "    \n",
    "\n",
    "def plot_wealth_snapshots(axis, test_bets: List[Bet], label: str) -> None:\n",
    "    possible_kelly_fraction = [0.01, 0.05, 0.1]\n",
    "    best_wealth_snapshots = [-np.inf]\n",
    "    best_kelly_fraction = 0\n",
    "    \n",
    "    for kelly_fraction in possible_kelly_fraction:\n",
    "        wealth_snapshots, _ = get_wealth_snapshots(test_bets, kelly_fraction)\n",
    "        wealth_snapshots = [log(wealth_snapshot) for wealth_snapshot in wealth_snapshots]\n",
    "        \n",
    "        if wealth_snapshots[-1] > best_wealth_snapshots[-1]:\n",
    "            best_wealth_snapshots = wealth_snapshots\n",
    "            best_kelly_fraction = kelly_fraction\n",
    "            \n",
    "    date_values = [bet.bet_offer.offer_datetime for bet in test_bets]\n",
    "    print(f\"{len(date_values)}/{len(best_wealth_snapshots)}\")\n",
    "    label = f\"{label} (\\u03B1 = {best_kelly_fraction})\"\n",
    "    sns.lineplot(ax=axis, x=date_values, y=best_wealth_snapshots, label=label)"
   ],
   "metadata": {
    "collapsed": false,
    "ExecuteTime": {
     "end_time": "2024-06-15T15:56:36.792773Z",
     "start_time": "2024-06-15T15:56:36.775365Z"
    }
   },
   "outputs": [],
   "execution_count": 24
  },
  {
   "cell_type": "code",
   "source": [
    "from Model.Betting.staking import FixedStakesCalculator, StakesCalculator, FlatStakesCalculator, KellyStakesCalculator\n",
    "from util.stats_calculator import get_max_draw_down\n",
    "import pickle\n",
    "import seaborn as sns\n",
    "from matplotlib import pyplot as plt\n",
    "from numpy import log\n",
    "import pandas as pd\n",
    "import time\n",
    "\n",
    "def plot_wealth_growths(test_bets: List[Bet], stakes_calculators: List[StakesCalculator]) -> None:\n",
    "    bet_times = [bet.bet_offer.offer_datetime for bet in test_bets]\n",
    "    colors = [\"darkgreen\", \"yellow\", \"purple\"]\n",
    "    \n",
    "    for idx, stakes_calculator in enumerate(stakes_calculators):\n",
    "        for bet in test_bets:\n",
    "            stakes_calculator.set_stakes(bet)\n",
    "        payouts = np.array([bet.bet_offer.live_result.payout for bet in test_bets])\n",
    "        soft_payouts = [bet.bet_offer.live_result.clv * bet.stakes for bet in test_bets]\n",
    "        total_stakes = sum([bet.stakes for bet in test_bets])\n",
    "        print(f\"Yield: {sum(soft_payouts) / total_stakes}\")\n",
    "        max_draw_down = bet_result.max_drawdown\n",
    "        print(f\"Max drawdown: {max_draw_down}\")\n",
    "        print(f\"Max draw down of soft payouts: {get_max_draw_down(soft_payouts)}\")\n",
    "        print(pd.Series(clv_of_bets).describe())\n",
    "        \n",
    "        plot_cumsum_over_time(payouts, bet_times, axes, label=\"Raw Payout\", color=colors[idx], linestyle=\"-\")\n",
    "        plot_cumsum_over_time(soft_payouts, bet_times, axes, label=\"CLV\", color=colors[idx], linestyle=\":\")\n",
    "        \n",
    "\n",
    "sns.set(rc={'figure.figsize':(10,8.5)}, font_scale=1.5)\n",
    "\n",
    "TEST_BETS_PATH = \"../data/test_payouts.dat\"\n",
    "\n",
    "with open(TEST_BETS_PATH, \"rb\") as f:\n",
    "    bet_result = pickle.load(f)\n",
    "    test_bets = bet_result.bets\n",
    "\n",
    "test_bets = [bet for bet in test_bets if bet.bet_offer.live_result.payout != 0]\n",
    "# test_bets = [bet for bet in test_bets if bet.bet_offer.minutes_until_race_start < -850]\n",
    "\n",
    "sorted_bets = sorted(test_bets, key=lambda bet: bet.bet_offer.live_result.clv)\n",
    "\n",
    "worst_bets = sorted_bets[:30]\n",
    "\n",
    "for bet in worst_bets:\n",
    "    print(\"----------------------------\")\n",
    "    print(bet.bet_offer.race_datetime)\n",
    "    print(bet.bet_offer.horse_number)\n",
    "    print(bet.probability_estimate)\n",
    "    print(bet.bet_offer.live_result.clv)\n",
    "    print(\"----------------------------\")\n",
    "\n",
    "\n",
    "test_bets = sorted(test_bets, key=lambda bet: bet.bet_offer.offer_datetime)\n",
    "\n",
    "test_bets = [bet for bet in test_bets if bet.bet_offer.start_probability > -1]\n",
    "\n",
    "fig, axes = plt.subplots(1, 1, figsize=(20, 8))\n",
    "axes.set_title(f\"Wealth progression (n={len(test_bets)})\")\n",
    "axes.set(xlabel=\"#Bets\", ylabel=\"Sum of returns\")\n",
    "\n",
    "clv_of_bets = [bet.bet_offer.live_result.clv for bet in test_bets]\n",
    "positive_clv_percentage = len([1 for clv in clv_of_bets if clv > 0]) / len(clv_of_bets)\n",
    "print(f\"% of positive clv: {positive_clv_percentage}\")\n",
    "\n",
    "stakes_calculators = [\n",
    "    FixedStakesCalculator(fixed_stakes=6.0)\n",
    "]\n",
    "\n",
    "plot_wealth_growths(test_bets, stakes_calculators)\n",
    "\n",
    "\n",
    "# stake_calculator = FixedStakesCalculator(fixed_stakes=8)\n",
    "# for bet in test_bets:\n",
    "#     stake_calculator.set_stakes(bet)\n",
    "# payouts = np.array([bet.payout for bet in test_bets])\n",
    "# soft_payouts = [bet.bet_offer.live_result.clv * bet.stakes for bet in test_bets]\n",
    "# max_draw_down = bet_result.max_drawdown\n",
    "# print(f\"Max drawdown: {max_draw_down}\")\n",
    "# print(f\"Max draw down of soft payouts: {get_max_draw_down(soft_payouts)}\")\n",
    "# print(pd.Series(clv_of_bets).describe())\n",
    "# \n",
    "# plot_cumsum_over_time(payouts, bet_times, axes, label=\"Raw Payout\", color=\"yellow\", linestyle=\"-\")\n",
    "# plot_cumsum_over_time(soft_payouts, bet_times, axes, label=\"CLV\", color=\"yellow\", linestyle=\":\")"
   ],
   "metadata": {
    "collapsed": false,
    "ExecuteTime": {
     "end_time": "2024-06-15T15:56:53.536493Z",
     "start_time": "2024-06-15T15:56:36.947690Z"
    }
   },
   "outputs": [
    {
     "name": "stdout",
     "output_type": "stream",
     "text": [
      "----------------------------\n",
      "2023-09-18 14:50:00\n",
      "2\n",
      "0.23990001557089635\n",
      "-0.8064628063326827\n",
      "----------------------------\n",
      "----------------------------\n",
      "2023-10-03 18:45:00\n",
      "2\n",
      "0.2683333396208589\n",
      "-0.7280373831775702\n",
      "----------------------------\n",
      "----------------------------\n",
      "2023-07-15 19:15:00\n",
      "7\n",
      "0.23441431468307497\n",
      "-0.6848730964467005\n",
      "----------------------------\n",
      "----------------------------\n",
      "2023-11-08 14:40:00\n",
      "11\n",
      "0.22387354028194367\n",
      "-0.6766666666666666\n",
      "----------------------------\n",
      "----------------------------\n",
      "2024-02-03 17:45:00\n",
      "3\n",
      "0.25619086661223034\n",
      "-0.6630526315789474\n",
      "----------------------------\n",
      "----------------------------\n",
      "2023-08-12 15:03:00\n",
      "5\n",
      "0.22555711638641657\n",
      "-0.6412239408204439\n",
      "----------------------------\n",
      "----------------------------\n",
      "2024-02-07 14:40:00\n",
      "8\n",
      "0.40932949993691636\n",
      "-0.6251081081081081\n",
      "----------------------------\n",
      "----------------------------\n",
      "2024-02-14 20:00:00\n",
      "1\n",
      "0.24806766589215465\n",
      "-0.6210937500000001\n",
      "----------------------------\n",
      "----------------------------\n",
      "2023-05-08 16:15:00\n",
      "9\n",
      "0.22074372577830656\n",
      "-0.62109375\n",
      "----------------------------\n",
      "----------------------------\n",
      "2023-10-14 14:35:00\n",
      "10\n",
      "0.5991610607538729\n",
      "-0.615176322418136\n",
      "----------------------------\n",
      "----------------------------\n",
      "2024-03-09 16:08:00\n",
      "1\n",
      "0.2392828797625803\n",
      "-0.612\n",
      "----------------------------\n",
      "----------------------------\n",
      "2023-06-16 20:35:00\n",
      "5\n",
      "0.2611837247609574\n",
      "-0.6054237288135593\n",
      "----------------------------\n",
      "----------------------------\n",
      "2023-11-14 14:55:00\n",
      "10\n",
      "0.2114972184188531\n",
      "-0.6053103448275862\n",
      "----------------------------\n",
      "----------------------------\n",
      "2023-11-26 13:20:00\n",
      "4\n",
      "0.24969356457491693\n",
      "-0.6044404168554599\n",
      "----------------------------\n",
      "----------------------------\n",
      "2023-05-22 16:50:00\n",
      "5\n",
      "0.21820902137706807\n",
      "-0.6023000000000001\n",
      "----------------------------\n",
      "----------------------------\n",
      "2023-06-05 21:30:00\n",
      "7\n",
      "0.22546963924835797\n",
      "-0.5958333333333333\n",
      "----------------------------\n",
      "----------------------------\n",
      "2023-09-08 18:55:00\n",
      "1\n",
      "0.28476892055663383\n",
      "-0.5951304347826087\n",
      "----------------------------\n",
      "----------------------------\n",
      "2023-10-24 16:40:00\n",
      "3\n",
      "0.2520985734608593\n",
      "-0.5937545922116091\n",
      "----------------------------\n",
      "----------------------------\n",
      "2024-01-26 14:35:00\n",
      "1\n",
      "0.48407682062491897\n",
      "-0.5891764705882353\n",
      "----------------------------\n",
      "----------------------------\n",
      "2023-09-25 17:55:00\n",
      "1\n",
      "0.34423319140627506\n",
      "-0.5884848484848485\n",
      "----------------------------\n",
      "----------------------------\n",
      "2024-04-26 20:40:00\n",
      "1\n",
      "0.32158568409867194\n",
      "-0.5855454545454546\n",
      "----------------------------\n",
      "----------------------------\n",
      "2023-11-09 14:00:00\n",
      "12\n",
      "0.38345058732047815\n",
      "-0.5832592592592594\n",
      "----------------------------\n",
      "----------------------------\n",
      "2023-10-31 14:30:00\n",
      "2\n",
      "0.30734073214171975\n",
      "-0.5826913456728363\n",
      "----------------------------\n",
      "----------------------------\n",
      "2023-08-16 19:30:00\n",
      "5\n",
      "0.26833300784763237\n",
      "-0.5821538461538461\n",
      "----------------------------\n",
      "----------------------------\n",
      "2023-10-02 16:10:00\n",
      "2\n",
      "0.24141933988834738\n",
      "-0.5752513785274084\n",
      "----------------------------\n",
      "----------------------------\n",
      "2024-04-26 20:40:00\n",
      "11\n",
      "0.24900377754377\n",
      "-0.5727380952380953\n",
      "----------------------------\n",
      "----------------------------\n",
      "2023-07-14 17:25:00\n",
      "11\n",
      "0.23846083701453638\n",
      "-0.5699666666666667\n",
      "----------------------------\n",
      "----------------------------\n",
      "2023-10-27 17:30:00\n",
      "16\n",
      "0.26453638557881826\n",
      "-0.5560404470463013\n",
      "----------------------------\n",
      "----------------------------\n",
      "2023-10-10 21:30:00\n",
      "9\n",
      "0.25755780568649067\n",
      "-0.5555776892430279\n",
      "----------------------------\n",
      "----------------------------\n",
      "2023-08-16 15:45:00\n",
      "8\n",
      "0.2803535137375356\n",
      "-0.5551849921834289\n",
      "----------------------------\n",
      "% of positive clv: 0.42586382113821136\n",
      "Yield: -0.019374752132510126\n",
      "Max drawdown: 2564.918005356957\n",
      "Max draw down of soft payouts: 2290.921455781015\n",
      "count    19680.000000\n",
      "mean        -0.019375\n",
      "std          0.183330\n",
      "min         -0.806463\n",
      "25%         -0.124061\n",
      "50%         -0.024277\n",
      "75%          0.072879\n",
      "max          3.051313\n",
      "dtype: float64\n"
     ]
    },
    {
     "data": {
      "text/plain": [
       "<Figure size 2000x800 with 1 Axes>"
      ],
      "image/png": "[encoded data removed]"
     },
     "metadata": {},
     "output_type": "display_data"
    }
   ],
   "execution_count": 25
  },
  {
   "metadata": {
    "ExecuteTime": {
     "end_time": "2024-06-15T14:25:14.673199Z",
     "start_time": "2024-06-15T14:25:14.399993Z"
    }
   },
   "cell_type": "code",
   "source": [
    "def split_list(alist, wanted_parts=1):\n",
    "    length = len(alist)\n",
    "    return [ alist[i*length // wanted_parts: (i+1)*length // wanted_parts] \n",
    "             for i in range(wanted_parts) ]\n",
    "\n",
    "n_winners = [bet.bet_offer.n_winners for bet in test_bets]\n",
    "n_winners_lists = split_list(n_winners, wanted_parts=3)\n",
    "print(len(n_winners_lists))\n"
   ],
   "outputs": [
    {
     "name": "stdout",
     "output_type": "stream",
     "text": [
      "3\n"
     ]
    },
    {
     "name": "stderr",
     "output_type": "stream",
     "text": [
      "/tmp/ipykernel_7357/2019557435.py:10: UserWarning: \n",
      "\n",
      "`distplot` is a deprecated function and will be removed in seaborn v0.14.0.\n",
      "\n",
      "Please adapt your code to use either `displot` (a figure-level function with\n",
      "similar flexibility) or `histplot` (an axes-level function for histograms).\n",
      "\n",
      "For a guide to updating your code to use the new functions, please see\n",
      "https://gist.github.com/mwaskom/de44147ed2974457ad6372750bbe5751\n",
      "\n",
      "  sns.distplot(a=n_winners_lists[0])\n"
     ]
    },
    {
     "data": {
      "text/plain": [
       "<AxesSubplot:ylabel='Density'>"
      ]
     },
     "execution_count": 22,
     "metadata": {},
     "output_type": "execute_result"
    },
    {
     "data": {
      "text/plain": [
       "<Figure size 1000x850 with 1 Axes>"
      ],
      "image/png": "[encoded data removed]"
     },
     "metadata": {},
     "output_type": "display_data"
    }
   ],
   "execution_count": 22
  },
  {
   "metadata": {},
   "cell_type": "code",
   "outputs": [],
   "execution_count": null,
   "source": ""
  },
  {
   "metadata": {
    "ExecuteTime": {
     "end_time": "2024-04-06T15:07:54.287151Z",
     "start_time": "2024-04-06T15:07:53.998255Z"
    }
   },
   "cell_type": "code",
   "source": [
    "from scipy.stats import pearsonr\n",
    "import seaborn as sns\n",
    "\n",
    "sp_of_bets = [bet.bet_offer.live_result.offer_odds for bet in test_bets]\n",
    "\n",
    "sns.scatterplot(x=sp_of_bets, y=clv_of_bets)\n",
    "\n",
    "pearsonr(x=sp_of_bets, y=clv_of_bets)"
   ],
   "execution_count": 4,
   "outputs": []
  },
  {
   "cell_type": "code",
   "source": [
    "n_winners = [bet.bet_offer.n_winners for bet in test_bets]\n",
    "sns.histplot(n_winners)"
   ],
   "metadata": {
    "collapsed": false,
    "ExecuteTime": {
     "end_time": "2024-02-29T16:57:38.719877Z",
     "start_time": "2024-02-29T16:57:38.526203Z"
    }
   },
   "execution_count": 38,
   "outputs": []
  },
  {
   "cell_type": "code",
   "source": [
    "import numpy as np\n",
    "\n",
    "def get_hour_difference(bet: Bet) -> int:\n",
    "    return int(bet.bet_offer.minutes_until_race_start / 60)\n",
    "\n",
    "def get_race_class(bet: Bet) -> str:\n",
    "    return bet.bet_offer.race_class\n",
    "\n",
    "def get_hour(bet: Bet) -> int:\n",
    "    return bet.bet_offer.offer_datetime.hour\n",
    "\n",
    "def get_country(bet: Bet) -> str:\n",
    "    return bet.bet_offer.country\n",
    "\n",
    "def get_month(bet: Bet) -> int:\n",
    "    return bet.bet_offer.offer_datetime.month\n",
    "    \n",
    "\n",
    "def show_clvs_by_category(category_calculator):\n",
    "    clvs = {}\n",
    "    \n",
    "    for bet in test_bets:\n",
    "        category = category_calculator(bet)\n",
    "        \n",
    "        if category not in clvs:\n",
    "            clvs[category] = []\n",
    "            \n",
    "        clv = bet.bet_offer.live_result.clv\n",
    "        if clv != 0:\n",
    "            clvs[category].append(clv)\n",
    "    \n",
    "    clv_means = {cat: np.mean(clvs[cat]) for cat in clvs}\n",
    "    clv_counts = {cat: len(clvs[cat]) for cat in clvs}\n",
    "        \n",
    "    print(clv_means)\n",
    "    print(clv_counts)\n",
    "        \n",
    "    sns.barplot(x=list(clv_means.keys()), y=list(clv_means.values()))\n",
    "    \n",
    "show_clvs_by_category(get_race_class)\n",
    "print(len(test_bets))"
   ],
   "metadata": {
    "collapsed": false,
    "ExecuteTime": {
     "end_time": "2024-05-05T00:27:36.847133Z",
     "start_time": "2024-05-05T00:27:36.650864Z"
    }
   },
   "execution_count": 5,
   "outputs": []
  },
  {
   "cell_type": "code",
   "source": [
    "month_count = {}\n",
    "\n",
    "for bet in test_bets:\n",
    "    month = bet.bet_offer.event_datetime.month\n",
    "    if month not in month_count:\n",
    "        month_count[month] = 0\n",
    "    else:\n",
    "        month_count[month] += 1\n",
    "        \n",
    "print(month_count)"
   ],
   "metadata": {
    "collapsed": false,
    "ExecuteTime": {
     "end_time": "2024-02-27T21:45:51.762972Z",
     "start_time": "2024-02-27T21:45:51.754727Z"
    }
   },
   "execution_count": 16,
   "outputs": []
  },
  {
   "cell_type": "code",
   "source": [
    "bets = test_bets\n",
    "n_successful_bets = len([bet for bet in bets if bet.payout > 0])\n",
    "n_bets = len(bets)\n",
    "\n",
    "print(n_successful_bets)\n",
    "print(n_bets)\n",
    "print(n_successful_bets / n_bets)\n",
    "odds_positive_payout = [bet.bet_offer.live_result.offer_odds for bet in bets if bet.payout > 0]\n",
    "print(np.mean(odds_positive_payout))\n",
    "print(np.median([bet.bet_offer.live_result.offer_odds for bet in bets]))\n",
    "print(np.mean([bet.bet_offer.live_result.offer_odds for bet in bets]))\n",
    "print(np.min([bet.bet_offer.live_result.offer_odds for bet in bets]))\n",
    "sns.histplot(data=odds_positive_payout, kde=True)"
   ],
   "metadata": {
    "collapsed": false,
    "ExecuteTime": {
     "end_time": "2024-03-19T22:13:26.752644Z",
     "start_time": "2024-03-19T22:13:26.488357Z"
    }
   },
   "execution_count": 36,
   "outputs": []
  },
  {
   "cell_type": "code",
   "source": [
    "from statistics import geometric_mean, mean\n",
    "from Model.Betting.bet import Bet\n",
    "from typing import List\n",
    "import numpy as np\n",
    "\n",
    "\n",
    "def get_win_prob_diffs(bet_odds_sp_pairs: List[Tuple[float, float]]) -> List[float]:\n",
    "    win_prob_diffs = []\n",
    "    for odds_pair in bet_odds_sp_pairs:\n",
    "        bet_odds = odds_pair[0]\n",
    "        sp = odds_pair[1]\n",
    "        if sp > 0:\n",
    "            bet_offer_win_prob = 1 / (bet_odds * (1 - 0.025))\n",
    "            bet_sp_win_prob = 1 / sp\n",
    "            \n",
    "            win_prob_diffs.append((bet_sp_win_prob / bet_offer_win_prob) - 1)\n",
    "            \n",
    "    return win_prob_diffs\n",
    "\n",
    "bets = test_bets\n",
    "\n",
    "cat_clv = {}\n",
    "for bet in bets:\n",
    "    clv = get_clv_of_bet(bet)\n",
    "    cat = bet.bet_offer.race_card.category\n",
    "    if cat not in cat_clv:\n",
    "        cat_clv[cat] = []\n",
    "        \n",
    "    cat_clv[cat].append(clv)\n",
    "\n",
    "win_prob_means = {}\n",
    "win_prob_counts = {}\n",
    "\n",
    "for race_category in cat_clv:\n",
    "    win_prob_means[race_category] = mean(cat_clv[race_category])\n",
    "    win_prob_counts[race_category] = len(cat_clv[race_category])\n",
    "\n",
    "# payout_means = dict(sorted(payout_means.items(), key=lambda item: item[1]))\n",
    "print(win_prob_means)\n",
    "print(win_prob_counts)\n",
    "# \n",
    "x = list(win_prob_means.keys())\n",
    "y = list(win_prob_means.values())\n",
    "\n",
    "sns.barplot(x=x, y=y)\n",
    "# plt.ylim(0.95, 1.1)"
   ],
   "metadata": {
    "collapsed": false,
    "ExecuteTime": {
     "end_time": "2024-03-02T15:28:41.556603Z",
     "start_time": "2024-03-02T15:28:41.242009Z"
    }
   },
   "execution_count": 5,
   "outputs": []
  },
  {
   "cell_type": "code",
   "execution_count": 97,
   "source": [
    "import pickle\n",
    "import seaborn as sns\n",
    "import numpy as np\n",
    "\n",
    "sns.set(rc={'figure.figsize':(10,8.5)}, font_scale=1.2)\n",
    "\n",
    "TEST_BETS_PATH = \"../data/test_payouts.dat\"\n",
    "\n",
    "with open(TEST_BETS_PATH, \"rb\") as f:\n",
    "    test_bets_base = pickle.load(f)\n",
    "    \n",
    "test_bets_base = sorted(test_bets_base, key=lambda bet: bet.bet_offer.event_datetime)\n",
    "\n",
    "test_bets_base = [bet for bet in test_bets_base if bet.probability_start > -1]# and bet.bet_offer.race_card.category == \"HCP\"]\n",
    "\n",
    "minutes_until_race_start = [get_minutes_until_race_start(bet) for bet in test_bets_base]\n",
    "ev = [(bet.probability_estimate * bet.bet_offer.odds) / bet.bet_offer.odds for bet in test_bets_base]\n",
    "stakes = [bet.stakes for bet in test_bets_base]\n",
    "payouts = [bet.payout for bet in test_bets_base]\n",
    "np.corrcoef(stakes, ev)"
   ],
   "metadata": {
    "collapsed": false,
    "ExecuteTime": {
     "end_time": "2023-11-16T04:34:35.188569441Z",
     "start_time": "2023-11-16T04:34:27.059008996Z"
    }
   },
   "outputs": []
  },
  {
   "cell_type": "code",
   "execution_count": 41,
   "source": [
    "months = [bet.bet_offer.race_card.datetime.month for bet in test_bets_base]\n",
    "n_horses  = [bet.bet_offer.race_card.n_horses for bet in test_bets_base]\n",
    "is_handicap = [bet.bet_offer.race_card.category == \"HCP\" for bet in test_bets_base]\n",
    "is_track_name = [bet.bet_offer.race_card.track_name == \"Exeter\" for bet in test_bets_base]\n",
    "\n",
    "print(test_bets_base[0].bet_offer.race_card.track_name)\n",
    "\n",
    "sns.barplot(x=months, y=is_track_name)"
   ],
   "metadata": {
    "collapsed": false,
    "ExecuteTime": {
     "end_time": "2023-11-01T23:10:35.732369504Z",
     "start_time": "2023-11-01T23:10:35.145445838Z"
    }
   },
   "outputs": []
  },
  {
   "cell_type": "markdown",
   "source": [
    "## Displaying payouts per race category"
   ],
   "metadata": {
    "collapsed": false
   }
  },
  {
   "cell_type": "code",
   "execution_count": 47,
   "source": [
    "import numpy as np\n",
    "\n",
    "estimated_value = [bet.bet_offer.odds * bet.probability_estimate for bet in test_bets_base]\n",
    "n_horses  = [bet.bet_offer.race_card.n_horses for bet in test_bets_base]\n",
    "payouts = [bet.payout for bet in test_bets_base]\n",
    "\n",
    "distances = [4086, 3219]\n",
    "sp = [5, 34]\n",
    "np.corrcoef(distances, sp)\n",
    "# sns.scatterplot(x=estimated_value, y=payouts)"
   ],
   "metadata": {
    "collapsed": false,
    "ExecuteTime": {
     "end_time": "2023-11-17T08:01:11.918692712Z",
     "start_time": "2023-11-17T08:01:11.809052621Z"
    }
   },
   "outputs": []
  },
  {
   "cell_type": "code",
   "execution_count": 43,
   "source": [
    "import numpy as np\n",
    "\n",
    "payouts = {\"low\": [], \"mid\": [], \"high\": []}\n",
    "\n",
    "for bet in test_bets_high_win_prob:\n",
    "    odds = bet.bet_offer.odds\n",
    "    \n",
    "    odds_category = \"low\"\n",
    "    if 5 <= odds <= 20:\n",
    "        odds_category = \"mid\"\n",
    "    if 20 < odds:\n",
    "        odds_category = \"high\"\n",
    "        \n",
    "    payouts[odds_category].append(bet.payout)\n",
    "\n",
    "payout_sums = {\"low\": 0, \"mid\": 0, \"high\": 0}\n",
    "payout_counts = {\"low\": 0, \"mid\": 0, \"high\": 0}\n",
    "\n",
    "for odds_category in payouts:\n",
    "    payout_sums[odds_category] = np.sum(payouts[odds_category])\n",
    "    payout_counts[odds_category] = len(payouts[odds_category])\n",
    "    \n",
    "print(payout_sums)\n",
    "print(payout_counts)\n",
    "    \n",
    "sns.barplot(x=list(payout_sums.keys()), y=list(payout_sums.values()))"
   ],
   "metadata": {
    "collapsed": false,
    "ExecuteTime": {
     "end_time": "2023-11-01T23:11:22.669103359Z",
     "start_time": "2023-11-01T23:11:22.523290402Z"
    }
   },
   "outputs": []
  },
  {
   "cell_type": "code",
   "execution_count": 44,
   "source": [
    "import numpy as np\n",
    "\n",
    "payouts = {\"low\": [], \"mid\": [], \"high\": []}\n",
    "\n",
    "for bet in test_bets_low_odds:\n",
    "    prob_estimate = bet.probability_estimate\n",
    "\n",
    "    prob_estimate_category = \"low\"\n",
    "    if 0.05 <= prob_estimate <= 0.25:\n",
    "        prob_estimate_category = \"mid\"\n",
    "    if 0.25 < prob_estimate:\n",
    "        prob_estimate_category = \"high\"\n",
    "\n",
    "    payouts[prob_estimate_category].append(bet.payout)\n",
    "\n",
    "prob_estimate_sums = {\"low\": 0, \"mid\": 0, \"high\": 0}\n",
    "prob_estimate_counts = {\"low\": 0, \"mid\": 0, \"high\": 0}\n",
    "\n",
    "for prob_estimate_category in payouts:\n",
    "    prob_estimate_sums[prob_estimate_category] = np.mean(payouts[prob_estimate_category])\n",
    "    prob_estimate_counts[prob_estimate_category] = len(payouts[prob_estimate_category])\n",
    "\n",
    "print(prob_estimate_sums)\n",
    "print(prob_estimate_counts)\n",
    "\n",
    "sns.barplot(x=list(prob_estimate_sums.keys()), y=list(prob_estimate_sums.values()))"
   ],
   "metadata": {
    "collapsed": false,
    "ExecuteTime": {
     "end_time": "2023-11-01T23:11:30.092273741Z",
     "start_time": "2023-11-01T23:11:29.908877228Z"
    }
   },
   "outputs": []
  },
  {
   "cell_type": "code",
   "execution_count": 45,
   "source": [
    "import numpy as np\n",
    "\n",
    "payouts = {\"low\": [], \"mid\": [], \"high\": []}\n",
    "\n",
    "for bet in test_bets_low_odds:\n",
    "    prob_estimate = bet.bet_offer.adjustment_factor\n",
    "\n",
    "    prob_estimate_category = \"low\"\n",
    "    if 0.7 <= prob_estimate <= 0.9:\n",
    "        prob_estimate_category = \"mid\"\n",
    "    if prob_estimate < 0.7:\n",
    "        prob_estimate_category = \"high\"\n",
    "\n",
    "    payouts[prob_estimate_category].append(bet.payout)\n",
    "\n",
    "prob_estimate_sums = {\"low\": 0, \"mid\": 0, \"high\": 0}\n",
    "prob_estimate_counts = {\"low\": 0, \"mid\": 0, \"high\": 0}\n",
    "\n",
    "for prob_estimate_category in payouts:\n",
    "    prob_estimate_sums[prob_estimate_category] = np.mean(payouts[prob_estimate_category])\n",
    "    prob_estimate_counts[prob_estimate_category] = len(payouts[prob_estimate_category])\n",
    "\n",
    "print(prob_estimate_sums)\n",
    "print(prob_estimate_counts)\n",
    "\n",
    "sns.barplot(x=list(prob_estimate_sums.keys()), y=list(prob_estimate_sums.values()))"
   ],
   "metadata": {
    "collapsed": false,
    "ExecuteTime": {
     "end_time": "2023-11-01T23:11:34.756950265Z",
     "start_time": "2023-11-01T23:11:34.580292121Z"
    }
   },
   "outputs": []
  },
  {
   "cell_type": "code",
   "execution_count": 38,
   "source": [
    "sns.histplot(payouts[\"mid\"])"
   ],
   "metadata": {
    "collapsed": false,
    "ExecuteTime": {
     "start_time": "2023-09-04T04:15:42.016732819Z"
    }
   },
   "outputs": []
  },
  {
   "cell_type": "code",
   "execution_count": 2,
   "source": [
    "import sys\n",
    "sys.path.append('/home/daniel/PycharmProjects/WageringSystem')\n",
    "\n",
    "from Experiments.FundHistorySummary import FundHistorySummary\n",
    "from datetime import datetime\n",
    "\n",
    "import matplotlib.pyplot as plt\n",
    "import matplotlib.dates as mdates\n",
    "\n",
    "def show_summary_grid(fund_history_summary: FundHistorySummary) -> None:\n",
    "    sns.set(rc={'figure.figsize':(26,15)})\n",
    "    f, axes = plt.subplots(2, 1)\n",
    "\n",
    "    start_wealth = 1000\n",
    "    bet_limit_fraction = 0.5\n",
    "    show_fixed_betting_wealth_progression(axes[0], fund_history_summary, start_wealth=start_wealth, betting_limit=1000)\n",
    "    show_dynamic_betting_wealth_progression(axes[1], fund_history_summary, start_wealth=start_wealth, bet_limit_fraction=bet_limit_fraction)\n",
    "\n",
    "def show_fixed_betting_wealth_progression(axis, fund_history_summary: FundHistorySummary, start_wealth: float, betting_limit: float):\n",
    "    snapshots = fund_history_summary.snapshots\n",
    "    dates = [snapshot.date.split()[0] for snapshot in snapshots]\n",
    "    absolute_payouts = [snapshot.payout_percentages * betting_limit for snapshot in snapshots]\n",
    "    wealth_progression = [start_wealth + payout_sum for payout_sum in cumsum(absolute_payouts)]\n",
    "\n",
    "    sns.lineplot(x=dates, y=wealth_progression, ax=axis)\n",
    "\n",
    "    max_date = datetime.strptime(max(dates), '%Y-%m-%d')\n",
    "    min_date = datetime.strptime(min(dates), '%Y-%m-%d')\n",
    "    summary_day_interval = (max_date - min_date).days\n",
    "    axis.xaxis.set_major_locator(mdates.DayLocator(interval=int(summary_day_interval / 5)))\n",
    "\n",
    "    axis.set_title(f\"Wealth progression over unseen test races. Betting limit is: {betting_limit}\")\n",
    "    axis.set_xlabel(f\"Date\")\n",
    "    axis.set_ylabel(f\"Current Wealth\")\n",
    "\n",
    "def show_dynamic_betting_wealth_progression(axis, fund_history_summary: FundHistorySummary, start_wealth: float, bet_limit_fraction: float) -> None:\n",
    "    dates = [snapshot.date.split()[0] for snapshot in fund_history_summary.snapshots]\n",
    "\n",
    "    current_wealth = start_wealth\n",
    "    wealth_progression = []\n",
    "    for i in range(len(fund_history_summary.snapshots)):\n",
    "        betting_limit = current_wealth * bet_limit_fraction\n",
    "        current_wealth += fund_history_summary.snapshots[i].payout_percentages * betting_limit\n",
    "        wealth_progression.append(current_wealth)\n",
    "\n",
    "    sns.lineplot(x=dates, y=wealth_progression, ax=axis)\n",
    "\n",
    "    max_date = datetime.strptime(max(dates), '%Y-%m-%d')\n",
    "    min_date = datetime.strptime(min(dates), '%Y-%m-%d')\n",
    "    summary_day_interval = (max_date - min_date).days\n",
    "    axis.xaxis.set_major_locator(mdates.DayLocator(interval=int(summary_day_interval / 5)))\n",
    "\n",
    "    axis.set_title(f\"Wealth progression over unseen test races. Betting limit is current wealth multiplied by {bet_limit_fraction:.2f}\")\n",
    "    axis.set_xlabel(f\"Date\")\n",
    "    axis.set_ylabel(f\"Current Wealth\")"
   ],
   "metadata": {
    "collapsed": false,
    "ExecuteTime": {
     "end_time": "2023-07-11T21:03:19.514272961Z",
     "start_time": "2023-07-11T21:03:19.486956960Z"
    }
   },
   "outputs": []
  },
  {
   "cell_type": "code",
   "execution_count": 5,
   "metadata": {
    "scrolled": true,
    "ExecuteTime": {
     "end_time": "2023-07-11T21:04:24.784143315Z",
     "start_time": "2023-07-11T21:04:24.606616223Z"
    }
   },
   "source": [],
   "outputs": []
  },
  {
   "cell_type": "code",
   "execution_count": 15,
   "source": [
    "from numpy import average, mean\n",
    "\n",
    "losses = [betting_slip.loss for betting_slip in fund_history_summary.betting_slips.values()]\n",
    "payouts = [betting_slip.payout_percentage for betting_slip in fund_history_summary.betting_slips.values()]\n",
    "\n",
    "print(f\"bet rate: {fund_history_summary.bet_rate}\")\n",
    "print(f\"max losses: {max(losses)}\")\n",
    "print(f\"min:{min(payouts)}\")\n",
    "print(f\"max:{max(payouts)}\")\n",
    "print(f\"avg:{average(payouts)}\")\n",
    "\n",
    "payout_bet_count_dist = {}\n",
    "payout_n_horses_dist = {}\n",
    "\n",
    "for betting_slip in fund_history_summary.betting_slips.values():\n",
    "    odds = 0\n",
    "    if betting_slip.bets:\n",
    "        for bet in betting_slip.bets:\n",
    "            if bet.stakes_fraction > 0:\n",
    "                odds = bet.odds\n",
    "\n",
    "                odds_category = \"low\"\n",
    "                if 2 <= odds <= 4:\n",
    "                    odds_category = \"mid\"\n",
    "                if 4 < odds:\n",
    "                    odds_category = \"high\"\n",
    "                if odds_category not in payout_bet_count_dist:\n",
    "                    payout_bet_count_dist[odds_category] = {\"total\": bet.win - bet.loss, \"n\": 1}\n",
    "                else:\n",
    "                    payout_bet_count_dist[odds_category][\"total\"] += bet.win - bet.loss\n",
    "                    payout_bet_count_dist[odds_category][\"n\"] += 1\n",
    "\n",
    "        n_horses_category = len(betting_slip.bets)\n",
    "\n",
    "        if n_horses_category not in payout_n_horses_dist:\n",
    "            payout_n_horses_dist[n_horses_category] = 0\n",
    "\n",
    "        payout_n_horses_dist[n_horses_category] += betting_slip.payout_percentage\n",
    "\n",
    "for key in payout_bet_count_dist:\n",
    "    if \"total\" in payout_bet_count_dist[key]:\n",
    "        print(f\"{key} count: {payout_bet_count_dist[key]['n']}\")\n",
    "        payout_bet_count_dist[key] = payout_bet_count_dist[key][\"total\"]\n",
    "\n",
    "print(payout_bet_count_dist)\n",
    "ax = sns.lineplot(data=payout_bet_count_dist)"
   ],
   "metadata": {
    "collapsed": false,
    "ExecuteTime": {
     "end_time": "2023-06-21T14:10:04.531386048Z",
     "start_time": "2023-06-21T14:10:04.240628077Z"
    }
   },
   "outputs": []
  },
  {
   "cell_type": "code",
   "execution_count": 16,
   "source": [
    "ax2 = sns.lineplot(data=payout_n_horses_dist)"
   ],
   "metadata": {
    "collapsed": false,
    "ExecuteTime": {
     "end_time": "2023-06-21T14:10:08.200236028Z",
     "start_time": "2023-06-21T14:10:07.834871371Z"
    }
   },
   "outputs": []
  },
  {
   "cell_type": "code",
   "execution_count": 18,
   "source": [
    "sorted_betting_slips = sorted(fund_history_summary.betting_slips.values(), key=lambda x: x.payout_percentage, reverse=True)\n",
    "\n",
    "for betting_slip in sorted_betting_slips:\n",
    "    if betting_slip.race_id == 5377715:\n",
    "        print(betting_slip)\n",
    "\n",
    "worst_betting_slips = sorted_betting_slips[-1:]\n",
    "\n",
    "for betting_slip in worst_betting_slips:\n",
    "    print(betting_slip)\n",
    "    print(f\"https://www.racebets.de/de/pferdewetten/race/details/id/{betting_slip.race_id}/\")"
   ],
   "metadata": {
    "collapsed": false,
    "ExecuteTime": {
     "end_time": "2023-06-21T14:25:28.561904411Z",
     "start_time": "2023-06-21T14:25:28.555918728Z"
    }
   },
   "outputs": []
  },
  {
   "cell_type": "code",
   "execution_count": 24,
   "source": [
    "payout_percentages = [betting_slip.payout_percentage for betting_slip in sorted_betting_slips]\n",
    "odds = []\n",
    "for betting_slip in sorted_betting_slips:\n",
    "    if betting_slip.bets:\n",
    "        odds.append(betting_slip.bets[0].predicted_horse_results[0].betting_odds)\n",
    "    else:\n",
    "        odds.append(0)\n",
    "\n",
    "sns.scatterplot(x=odds, y=payout_percentages)"
   ],
   "metadata": {
    "collapsed": false
   },
   "outputs": []
  },
  {
   "cell_type": "markdown",
   "source": [
    "## Real payout plotting"
   ],
   "metadata": {
    "collapsed": false
   }
  },
  {
   "cell_type": "code",
   "execution_count": 25,
   "source": [
    "from numpy import cumsum\n",
    "import seaborn as sns\n",
    "real_payouts = [\n",
    "    0, 13, -6, 7, 5, 0, -1, 10, 3, 7, 1, 6, 13, 0, -5, 2, -12,\n",
    "    -1, 1,\n",
    "    4, 3, -5, -9, -3, -2, -4, 10, 6, -13, 4, 0, 3,\n",
    "    5, 6, 14, 17, -2, -1, 2, 3, 10, -2,\n",
    "    -25, -1, 3, -25, 0, -3, -19, 0, 6, 0, 28, 0, -5, -7, -6, -1, -10, 13,\n",
    "]\n",
    "\n",
    "real_payouts = [real_payout / 3 for real_payout in real_payouts]\n",
    "\n",
    "print(cumsum(real_payouts)[-1])\n",
    "\n",
    "ax = sns.lineplot(cumsum(real_payouts))\n",
    "ax.set_title(\"Wealth progression\")\n",
    "ax.set_xlabel(\"N Races\")\n",
    "ax.set_ylabel(\"Wealth change in %\")"
   ],
   "metadata": {
    "collapsed": false
   },
   "outputs": []
  },
  {
   "cell_type": "code",
   "execution_count": 10,
   "source": [
    "import pandas as pd\n",
    "\n",
    "# Create a sample dataframe with three columns 'A', 'B', and 'C'\n",
    "df = pd.DataFrame({'A': [1, 1, 1, 2, 2, 2, 2, 2],\n",
    "                   'B': [2, 3, 5, 10, 20, 55, 65, 75],\n",
    "                   'C': [2, 2, 2, 3, 3, 3, 3, 3]})\n",
    "\n",
    "# Group the dataframe by column 'A' and get the values of 'B' and 'C' for each group\n",
    "grouped = df.groupby('A')[['B', 'C']].agg({'B': lambda x: list(x), 'C': 'first'})\n",
    "\n",
    "# Convert the grouped values to a list of tuples\n",
    "result = [tuple(row) for row in grouped.values]\n",
    "\n",
    "print(result)"
   ],
   "metadata": {
    "collapsed": false
   },
   "outputs": []
  },
  {
   "cell_type": "code",
   "execution_count": 29,
   "source": [
    "import pickle\n",
    "\n",
    "BET_MODEL_CONFIGURATION_PATH = \"../data/bet_model_configuration.dat\"\n",
    "\n",
    "with open(BET_MODEL_CONFIGURATION_PATH, \"rb\") as f:\n",
    "    bet_model_configuration = pickle.load(f)\n",
    "\n",
    "print([feature.get_name() for feature in bet_model_configuration.feature_subset])"
   ],
   "metadata": {
    "collapsed": false
   },
   "outputs": []
  },
  {
   "metadata": {},
   "cell_type": "code",
   "execution_count": null,
   "source": "",
   "outputs": []
  }
 ],
 "metadata": {
  "kernelspec": {
   "display_name": "Python 3",
   "language": "python",
   "name": "python3"
  },
  "language_info": {
   "codemirror_mode": {
    "name": "ipython",
    "version": 3
   },
   "file_extension": ".py",
   "mimetype": "text/x-python",
   "name": "python",
   "nbconvert_exporter": "python",
   "pygments_lexer": "ipython3",
   "version": "3.8.3"
  }
 },
 "nbformat": 4,
 "nbformat_minor": 4
}
